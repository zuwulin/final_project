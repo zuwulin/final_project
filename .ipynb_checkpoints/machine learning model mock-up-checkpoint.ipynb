{
 "cells": [
  {
   "cell_type": "code",
   "execution_count": 127,
   "id": "3c84f5dc",
   "metadata": {},
   "outputs": [],
   "source": [
    "# Initial imports.\n",
    "import pandas as pd\n",
    "from sklearn.ensemble import RandomForestClassifier\n",
    "from sklearn.preprocessing import StandardScaler\n",
    "from sklearn.model_selection import train_test_split\n",
    "from sklearn.metrics import confusion_matrix, accuracy_score, classification_report"
   ]
  },
  {
   "cell_type": "code",
   "execution_count": 128,
   "id": "deea4c3c",
   "metadata": {},
   "outputs": [
    {
     "data": {
      "text/html": [
       "<div>\n",
       "<style scoped>\n",
       "    .dataframe tbody tr th:only-of-type {\n",
       "        vertical-align: middle;\n",
       "    }\n",
       "\n",
       "    .dataframe tbody tr th {\n",
       "        vertical-align: top;\n",
       "    }\n",
       "\n",
       "    .dataframe thead th {\n",
       "        text-align: right;\n",
       "    }\n",
       "</style>\n",
       "<table border=\"1\" class=\"dataframe\">\n",
       "  <thead>\n",
       "    <tr style=\"text-align: right;\">\n",
       "      <th></th>\n",
       "      <th>Address</th>\n",
       "      <th>zipcode</th>\n",
       "      <th>city</th>\n",
       "      <th>latitude</th>\n",
       "      <th>longitude</th>\n",
       "      <th>price</th>\n",
       "      <th>bathrooms</th>\n",
       "      <th>bedrooms</th>\n",
       "      <th>homeType</th>\n",
       "    </tr>\n",
       "  </thead>\n",
       "  <tbody>\n",
       "    <tr>\n",
       "      <th>0</th>\n",
       "      <td>120 Church St E</td>\n",
       "      <td>L6V1G8</td>\n",
       "      <td>Brampton</td>\n",
       "      <td>43.694460</td>\n",
       "      <td>-79.756256</td>\n",
       "      <td>1</td>\n",
       "      <td>2</td>\n",
       "      <td>3</td>\n",
       "      <td>SINGLE_FAMILY</td>\n",
       "    </tr>\n",
       "    <tr>\n",
       "      <th>1</th>\n",
       "      <td>128 Church St E</td>\n",
       "      <td>L6V1G8</td>\n",
       "      <td>Brampton</td>\n",
       "      <td>43.694798</td>\n",
       "      <td>-79.755770</td>\n",
       "      <td>1</td>\n",
       "      <td>2</td>\n",
       "      <td>2</td>\n",
       "      <td>SINGLE_FAMILY</td>\n",
       "    </tr>\n",
       "    <tr>\n",
       "      <th>2</th>\n",
       "      <td>3 Sophia St</td>\n",
       "      <td>L6V1T8</td>\n",
       "      <td>Brampton</td>\n",
       "      <td>43.694980</td>\n",
       "      <td>-79.756850</td>\n",
       "      <td>1</td>\n",
       "      <td>2</td>\n",
       "      <td>3</td>\n",
       "      <td>SINGLE_FAMILY</td>\n",
       "    </tr>\n",
       "    <tr>\n",
       "      <th>3</th>\n",
       "      <td>1A Sophia St</td>\n",
       "      <td>L6V1T8</td>\n",
       "      <td>Brampton</td>\n",
       "      <td>43.694664</td>\n",
       "      <td>-79.756470</td>\n",
       "      <td>1</td>\n",
       "      <td>2</td>\n",
       "      <td>2</td>\n",
       "      <td>SINGLE_FAMILY</td>\n",
       "    </tr>\n",
       "    <tr>\n",
       "      <th>4</th>\n",
       "      <td>1 Sophia St</td>\n",
       "      <td>L6V1T8</td>\n",
       "      <td>Brampton</td>\n",
       "      <td>43.694763</td>\n",
       "      <td>-79.756680</td>\n",
       "      <td>1</td>\n",
       "      <td>3</td>\n",
       "      <td>4</td>\n",
       "      <td>SINGLE_FAMILY</td>\n",
       "    </tr>\n",
       "  </tbody>\n",
       "</table>\n",
       "</div>"
      ],
      "text/plain": [
       "           Address zipcode      city   latitude  longitude  price  bathrooms  \\\n",
       "0  120 Church St E  L6V1G8  Brampton  43.694460 -79.756256      1          2   \n",
       "1  128 Church St E  L6V1G8  Brampton  43.694798 -79.755770      1          2   \n",
       "2      3 Sophia St  L6V1T8  Brampton  43.694980 -79.756850      1          2   \n",
       "3     1A Sophia St  L6V1T8  Brampton  43.694664 -79.756470      1          2   \n",
       "4      1 Sophia St  L6V1T8  Brampton  43.694763 -79.756680      1          3   \n",
       "\n",
       "   bedrooms       homeType  \n",
       "0         3  SINGLE_FAMILY  \n",
       "1         2  SINGLE_FAMILY  \n",
       "2         3  SINGLE_FAMILY  \n",
       "3         2  SINGLE_FAMILY  \n",
       "4         4  SINGLE_FAMILY  "
      ]
     },
     "execution_count": 128,
     "metadata": {},
     "output_type": "execute_result"
    }
   ],
   "source": [
    "#load in the csv file for model\n",
    "df = pd.read_csv(Path('resources/GTA_houses_aftercleaning.csv'))\n",
    "df.head()"
   ]
  },
  {
   "cell_type": "code",
   "execution_count": 129,
   "id": "4e90ade4",
   "metadata": {},
   "outputs": [
    {
     "data": {
      "text/plain": [
       "(2000, 9)"
      ]
     },
     "execution_count": 129,
     "metadata": {},
     "output_type": "execute_result"
    }
   ],
   "source": [
    "#check how many rows and columns we have\n",
    "df.shape"
   ]
  },
  {
   "cell_type": "code",
   "execution_count": 130,
   "id": "e375d0db",
   "metadata": {
    "scrolled": false
   },
   "outputs": [
    {
     "data": {
      "text/html": [
       "<div>\n",
       "<style scoped>\n",
       "    .dataframe tbody tr th:only-of-type {\n",
       "        vertical-align: middle;\n",
       "    }\n",
       "\n",
       "    .dataframe tbody tr th {\n",
       "        vertical-align: top;\n",
       "    }\n",
       "\n",
       "    .dataframe thead th {\n",
       "        text-align: right;\n",
       "    }\n",
       "</style>\n",
       "<table border=\"1\" class=\"dataframe\">\n",
       "  <thead>\n",
       "    <tr style=\"text-align: right;\">\n",
       "      <th></th>\n",
       "      <th>Address</th>\n",
       "      <th>zipcode</th>\n",
       "      <th>city</th>\n",
       "      <th>latitude</th>\n",
       "      <th>longitude</th>\n",
       "      <th>price</th>\n",
       "      <th>bathrooms</th>\n",
       "      <th>bedrooms</th>\n",
       "      <th>homeType</th>\n",
       "    </tr>\n",
       "  </thead>\n",
       "  <tbody>\n",
       "    <tr>\n",
       "      <th>0</th>\n",
       "      <td>120 Church St E</td>\n",
       "      <td>L6V1G8</td>\n",
       "      <td>0</td>\n",
       "      <td>43.694460</td>\n",
       "      <td>-79.756256</td>\n",
       "      <td>1</td>\n",
       "      <td>2</td>\n",
       "      <td>3</td>\n",
       "      <td>5</td>\n",
       "    </tr>\n",
       "    <tr>\n",
       "      <th>1</th>\n",
       "      <td>128 Church St E</td>\n",
       "      <td>L6V1G8</td>\n",
       "      <td>0</td>\n",
       "      <td>43.694798</td>\n",
       "      <td>-79.755770</td>\n",
       "      <td>1</td>\n",
       "      <td>2</td>\n",
       "      <td>2</td>\n",
       "      <td>5</td>\n",
       "    </tr>\n",
       "    <tr>\n",
       "      <th>2</th>\n",
       "      <td>3 Sophia St</td>\n",
       "      <td>L6V1T8</td>\n",
       "      <td>0</td>\n",
       "      <td>43.694980</td>\n",
       "      <td>-79.756850</td>\n",
       "      <td>1</td>\n",
       "      <td>2</td>\n",
       "      <td>3</td>\n",
       "      <td>5</td>\n",
       "    </tr>\n",
       "    <tr>\n",
       "      <th>3</th>\n",
       "      <td>1A Sophia St</td>\n",
       "      <td>L6V1T8</td>\n",
       "      <td>0</td>\n",
       "      <td>43.694664</td>\n",
       "      <td>-79.756470</td>\n",
       "      <td>1</td>\n",
       "      <td>2</td>\n",
       "      <td>2</td>\n",
       "      <td>5</td>\n",
       "    </tr>\n",
       "    <tr>\n",
       "      <th>4</th>\n",
       "      <td>1 Sophia St</td>\n",
       "      <td>L6V1T8</td>\n",
       "      <td>0</td>\n",
       "      <td>43.694763</td>\n",
       "      <td>-79.756680</td>\n",
       "      <td>1</td>\n",
       "      <td>3</td>\n",
       "      <td>4</td>\n",
       "      <td>5</td>\n",
       "    </tr>\n",
       "  </tbody>\n",
       "</table>\n",
       "</div>"
      ],
      "text/plain": [
       "           Address zipcode  city   latitude  longitude  price  bathrooms  \\\n",
       "0  120 Church St E  L6V1G8     0  43.694460 -79.756256      1          2   \n",
       "1  128 Church St E  L6V1G8     0  43.694798 -79.755770      1          2   \n",
       "2      3 Sophia St  L6V1T8     0  43.694980 -79.756850      1          2   \n",
       "3     1A Sophia St  L6V1T8     0  43.694664 -79.756470      1          2   \n",
       "4      1 Sophia St  L6V1T8     0  43.694763 -79.756680      1          3   \n",
       "\n",
       "   bedrooms  homeType  \n",
       "0         3         5  \n",
       "1         2         5  \n",
       "2         3         5  \n",
       "3         2         5  \n",
       "4         4         5  "
      ]
     },
     "execution_count": 130,
     "metadata": {},
     "output_type": "execute_result"
    }
   ],
   "source": [
    "#df = pd.get_dummies(df, columns=[\"homeType\", \"city\"])\n",
    "#df.head()\n",
    "\n",
    "from sklearn.preprocessing import LabelEncoder\n",
    "le = LabelEncoder()\n",
    "df = df.copy()\n",
    "df['city'] = le.fit_transform(df['city'])\n",
    "df['homeType'] = le.fit_transform(df['homeType'])\n",
    "df.head()"
   ]
  },
  {
   "cell_type": "code",
   "execution_count": 131,
   "id": "9740d387",
   "metadata": {
    "scrolled": true
   },
   "outputs": [
    {
     "name": "stdout",
     "output_type": "stream",
     "text": [
      "            count        mean         std    min        25%         50%  \\\n",
      "city       2000.0        3.43        2.07   0.00       2.00        3.00   \n",
      "latitude   2000.0       43.73        0.10  43.51      43.66       43.73   \n",
      "longitude  2000.0      -79.52        0.18 -79.90     -79.66      -79.50   \n",
      "price      2000.0  1680882.98  2022453.06   1.00  839974.25  1199000.00   \n",
      "bathrooms  2000.0        3.20        1.65   0.00       2.00        3.00   \n",
      "bedrooms   2000.0        3.23        1.22   0.00       3.00        3.00   \n",
      "homeType   2000.0        4.30        1.72   0.00       5.00        5.00   \n",
      "\n",
      "                  75%          max  \n",
      "city             5.00         6.00  \n",
      "latitude        43.82        44.00  \n",
      "longitude      -79.38       -79.13  \n",
      "price      1759000.00  37500000.00  \n",
      "bathrooms        4.00        16.00  \n",
      "bedrooms         4.00        12.00  \n",
      "homeType         5.00         6.00  \n"
     ]
    }
   ],
   "source": [
    "#statistical overview of the dataset\n",
    "print(df.describe().round(2).T)"
   ]
  },
  {
   "cell_type": "code",
   "execution_count": 132,
   "id": "6c185cca",
   "metadata": {},
   "outputs": [
    {
     "data": {
      "text/html": [
       "<div>\n",
       "<style scoped>\n",
       "    .dataframe tbody tr th:only-of-type {\n",
       "        vertical-align: middle;\n",
       "    }\n",
       "\n",
       "    .dataframe tbody tr th {\n",
       "        vertical-align: top;\n",
       "    }\n",
       "\n",
       "    .dataframe thead th {\n",
       "        text-align: right;\n",
       "    }\n",
       "</style>\n",
       "<table border=\"1\" class=\"dataframe\">\n",
       "  <thead>\n",
       "    <tr style=\"text-align: right;\">\n",
       "      <th></th>\n",
       "      <th>city</th>\n",
       "      <th>bathrooms</th>\n",
       "      <th>bedrooms</th>\n",
       "      <th>homeType</th>\n",
       "    </tr>\n",
       "  </thead>\n",
       "  <tbody>\n",
       "    <tr>\n",
       "      <th>0</th>\n",
       "      <td>0</td>\n",
       "      <td>2</td>\n",
       "      <td>3</td>\n",
       "      <td>5</td>\n",
       "    </tr>\n",
       "    <tr>\n",
       "      <th>1</th>\n",
       "      <td>0</td>\n",
       "      <td>2</td>\n",
       "      <td>2</td>\n",
       "      <td>5</td>\n",
       "    </tr>\n",
       "    <tr>\n",
       "      <th>2</th>\n",
       "      <td>0</td>\n",
       "      <td>2</td>\n",
       "      <td>3</td>\n",
       "      <td>5</td>\n",
       "    </tr>\n",
       "    <tr>\n",
       "      <th>3</th>\n",
       "      <td>0</td>\n",
       "      <td>2</td>\n",
       "      <td>2</td>\n",
       "      <td>5</td>\n",
       "    </tr>\n",
       "    <tr>\n",
       "      <th>4</th>\n",
       "      <td>0</td>\n",
       "      <td>3</td>\n",
       "      <td>4</td>\n",
       "      <td>5</td>\n",
       "    </tr>\n",
       "  </tbody>\n",
       "</table>\n",
       "</div>"
      ],
      "text/plain": [
       "   city  bathrooms  bedrooms  homeType\n",
       "0     0          2         3         5\n",
       "1     0          2         2         5\n",
       "2     0          2         3         5\n",
       "3     0          2         2         5\n",
       "4     0          3         4         5"
      ]
     },
     "execution_count": 132,
     "metadata": {},
     "output_type": "execute_result"
    }
   ],
   "source": [
    "# Define the features set.\n",
    "X = df.copy()\n",
    "X = X[['city', 'bathrooms', 'bedrooms', 'homeType']]\n",
    "X.head()"
   ]
  },
  {
   "cell_type": "code",
   "execution_count": 133,
   "id": "faa41fe0",
   "metadata": {},
   "outputs": [
    {
     "data": {
      "text/plain": [
       "array([1, 1, 1, 1, 1], dtype=int64)"
      ]
     },
     "execution_count": 133,
     "metadata": {},
     "output_type": "execute_result"
    }
   ],
   "source": [
    "# Define the target set.\n",
    "y = df['price'].ravel()\n",
    "y[:5]"
   ]
  },
  {
   "cell_type": "code",
   "execution_count": 159,
   "id": "e7824de6",
   "metadata": {},
   "outputs": [],
   "source": [
    "# Splitting into Train and Test sets.\n",
    "X_train, X_test, y_train, y_test = train_test_split(X, y, random_state=50, train_size=0.80)"
   ]
  },
  {
   "cell_type": "code",
   "execution_count": 160,
   "id": "e56c518d",
   "metadata": {},
   "outputs": [
    {
     "name": "stdout",
     "output_type": "stream",
     "text": [
      "(1600, 4)\n",
      "(400, 4)\n",
      "(1600,)\n",
      "(400,)\n"
     ]
    }
   ],
   "source": [
    "# Determine the shape of our training and testing sets.\n",
    "print(X_train.shape)\n",
    "print(X_test.shape)\n",
    "print(y_train.shape)\n",
    "print(y_test.shape)"
   ]
  },
  {
   "cell_type": "code",
   "execution_count": 161,
   "id": "99239f60",
   "metadata": {},
   "outputs": [],
   "source": [
    "# Creating a StandardScaler instance.\n",
    "scaler = StandardScaler()\n",
    "# Fitting the Standard Scaler with the training data.\n",
    "X_scaler = scaler.fit(X_train)\n",
    "\n",
    "# Scaling the data.\n",
    "X_train_scaled = X_scaler.transform(X_train)\n",
    "X_test_scaled = X_scaler.transform(X_test)"
   ]
  },
  {
   "cell_type": "code",
   "execution_count": 162,
   "id": "ab84083f",
   "metadata": {},
   "outputs": [],
   "source": [
    "# Create a random forest classifier.\n",
    "rf_model = RandomForestClassifier(n_estimators=128, random_state=50)"
   ]
  },
  {
   "cell_type": "code",
   "execution_count": 163,
   "id": "e47abd8f",
   "metadata": {},
   "outputs": [],
   "source": [
    "# Fitting the model\n",
    "rf_model = rf_model.fit(X_train_scaled, y_train)"
   ]
  },
  {
   "cell_type": "code",
   "execution_count": 164,
   "id": "f65722e6",
   "metadata": {},
   "outputs": [
    {
     "name": "stdout",
     "output_type": "stream",
     "text": [
      "[ 1549000   849000  1300000  1599999  1599000   998888   999000   889000\n",
      "  1299000   609900  1849000   587000   799900  1100000   999000   999000\n",
      "   699000   799900   699000  1399000  1300000  1599000   999900   899000\n",
      "   499900   599900   699000  1399000  7299000   699000  1830888  3999900\n",
      "   699900   649000  1479900  1599999  4958000  1299000  1888888  1599000\n",
      "   999900  1399000   999000  1099000  7299000  1100000   699000  7580000\n",
      "   488000  1350000  1299000  1300000   999900  1399000   899000   649000\n",
      "   799900  1825000  1549000  4995000   999900  2549888   849000  1399000\n",
      "  1399000   849000   799900   368000   899000  1588000  1300000   699000\n",
      "  1299000  4958000  1549000  1849000   599900  1599000   899900  2199000\n",
      "   799900   998888  1099000  1299000 19250000   998000  3350000 12895000\n",
      "  1299000  1099000  1980000  1599000   699000   699000   609900  1599000\n",
      "   649000   999900   999000  1599999   475000   899000   699900   999000\n",
      "  1599000  1479900  1300000  2099000  7499000  3499999   999000   999000\n",
      "  1988000  5380000   999000   899900   899900  1300000   799900  1799000\n",
      "  1298000  4500000  1299900   699900   688888  1599999   599900  1349000\n",
      "  1499900  2688800   998888  1299000  5899850   699000   799900  1589000\n",
      "  1198888   898000  1250000   649000  3499000  3299850   609900  1599999\n",
      "  1599000   999000   999900  1299000   699000  1288000   609900  1825000\n",
      "   479000   609900   998000   699900  1300000   699000   999000  1849000\n",
      "  1399000  5380000  3350000 10500000   609900  1499900   899000   609900\n",
      "   998000  1849000  1999900  1849000   759900  1199000  1830888   669900\n",
      "  1300000 12895000   699000  6498000        1  1849000  3970000  1549000\n",
      "   609900  1549000   899000   699000  1825000   609900  2199000  2199000\n",
      "   998000   699000  1399000   609900  1299000   999000   999000   899000\n",
      "  1288000  6498000  1300000   599000   898800  1198888   899000   799900\n",
      "   999000   599900   599900  1100000  1825000  1988000   999000   699900\n",
      "  3499999  7990000   649000   699000   899000   999000   899000   889000\n",
      "   639900  1199000   998000  1199000  1588000   609900   989800   699000\n",
      "  1549000   999813   609900  1888888  6888000   699000   368000  1830888\n",
      "  1399000   519900  1288000   587000   999900   599900   999000  1849000\n",
      "  1299000  1830888  1599000   899000  1599000  1830888   999000  1100000\n",
      "  1199000   699900  1799000  1399000   609900  1299000   899900  1849000\n",
      "  1399000  1849000  1399000  1599000   889000  1888888   999000  6200000\n",
      "  1849000   699000  2199000  1399000  1399000   799800  2249900  1825000\n",
      "  6498000  1299000   999900  1099000   799900   609900  1100000   999900\n",
      "  1099000  1099000   869000   899000   599900   998888  1199000  1299900\n",
      "    25000   699000   999000   699900  1399000   799900  6200000  1479900\n",
      "  8000000   999000  1588000 25000000  1599000   999900   799900   999900\n",
      "   999000  1988000   587000  1199000  4350000   609900   609900   799900\n",
      "  1499900   609900  1299000  1299000   999900  1399000  1588000   999000\n",
      "   699900  1799000   999900  1479900   899000   699900   669900  1858000\n",
      "  2249900   998000  1299000   599900   499900   999900   999900   699000\n",
      "  1299000  2249900  3899000  1198888  1199000  1399000   609900  1399000\n",
      "   899900  1599000   999000   999900   599900  1888888   669900  3299850\n",
      "   699900   599900   699000   999000  1988000  1588000  2525000   879900\n",
      "   998000   899000   699000  1599000  1038000  1099000   999900  3499999\n",
      "  6200000  1399000   599900   879000  3299850   799999  1830888  1099000\n",
      "  1299000  6888000  1830888   699900   699000  1399000  1988000  1298000\n",
      "  1299000  1300000   999000   998888  1299000  3350000   898800   609900]\n"
     ]
    }
   ],
   "source": [
    "# Making predictions using the testing data.\n",
    "predictions = rf_model.predict(X_test_scaled)\n",
    "print(predictions)"
   ]
  },
  {
   "cell_type": "code",
   "execution_count": 165,
   "id": "3a330476",
   "metadata": {},
   "outputs": [
    {
     "ename": "ValueError",
     "evalue": "Shape of passed values is (341, 341), indices imply (2, 2)",
     "output_type": "error",
     "traceback": [
      "\u001b[1;31m---------------------------------------------------------------------------\u001b[0m",
      "\u001b[1;31mValueError\u001b[0m                                Traceback (most recent call last)",
      "\u001b[1;32m~\\AppData\\Local\\Temp\\ipykernel_27284\\4042802561.py\u001b[0m in \u001b[0;36m<module>\u001b[1;34m\u001b[0m\n\u001b[0;32m      4\u001b[0m \u001b[1;31m# Create a DataFrame from the confusion matrix.\u001b[0m\u001b[1;33m\u001b[0m\u001b[1;33m\u001b[0m\u001b[1;33m\u001b[0m\u001b[0m\n\u001b[0;32m      5\u001b[0m cm_df = pd.DataFrame(\n\u001b[1;32m----> 6\u001b[1;33m     cm, index=[\"Actual 0\", \"Actual 1\"], columns=[\"Predicted 0\", \"Predicted 1\"])\n\u001b[0m\u001b[0;32m      7\u001b[0m \u001b[1;33m\u001b[0m\u001b[0m\n\u001b[0;32m      8\u001b[0m \u001b[0mcm_df\u001b[0m\u001b[1;33m\u001b[0m\u001b[1;33m\u001b[0m\u001b[0m\n",
      "\u001b[1;32m~\\anaconda3\\envs\\mlenv\\lib\\site-packages\\pandas\\core\\frame.py\u001b[0m in \u001b[0;36m__init__\u001b[1;34m(self, data, index, columns, dtype, copy)\u001b[0m\n\u001b[0;32m    676\u001b[0m                     \u001b[0mdtype\u001b[0m\u001b[1;33m=\u001b[0m\u001b[0mdtype\u001b[0m\u001b[1;33m,\u001b[0m\u001b[1;33m\u001b[0m\u001b[1;33m\u001b[0m\u001b[0m\n\u001b[0;32m    677\u001b[0m                     \u001b[0mcopy\u001b[0m\u001b[1;33m=\u001b[0m\u001b[0mcopy\u001b[0m\u001b[1;33m,\u001b[0m\u001b[1;33m\u001b[0m\u001b[1;33m\u001b[0m\u001b[0m\n\u001b[1;32m--> 678\u001b[1;33m                     \u001b[0mtyp\u001b[0m\u001b[1;33m=\u001b[0m\u001b[0mmanager\u001b[0m\u001b[1;33m,\u001b[0m\u001b[1;33m\u001b[0m\u001b[1;33m\u001b[0m\u001b[0m\n\u001b[0m\u001b[0;32m    679\u001b[0m                 )\n\u001b[0;32m    680\u001b[0m \u001b[1;33m\u001b[0m\u001b[0m\n",
      "\u001b[1;32m~\\anaconda3\\envs\\mlenv\\lib\\site-packages\\pandas\\core\\internals\\construction.py\u001b[0m in \u001b[0;36mndarray_to_mgr\u001b[1;34m(values, index, columns, dtype, copy, typ)\u001b[0m\n\u001b[0;32m    322\u001b[0m     )\n\u001b[0;32m    323\u001b[0m \u001b[1;33m\u001b[0m\u001b[0m\n\u001b[1;32m--> 324\u001b[1;33m     \u001b[0m_check_values_indices_shape_match\u001b[0m\u001b[1;33m(\u001b[0m\u001b[0mvalues\u001b[0m\u001b[1;33m,\u001b[0m \u001b[0mindex\u001b[0m\u001b[1;33m,\u001b[0m \u001b[0mcolumns\u001b[0m\u001b[1;33m)\u001b[0m\u001b[1;33m\u001b[0m\u001b[1;33m\u001b[0m\u001b[0m\n\u001b[0m\u001b[0;32m    325\u001b[0m \u001b[1;33m\u001b[0m\u001b[0m\n\u001b[0;32m    326\u001b[0m     \u001b[1;32mif\u001b[0m \u001b[0mtyp\u001b[0m \u001b[1;33m==\u001b[0m \u001b[1;34m\"array\"\u001b[0m\u001b[1;33m:\u001b[0m\u001b[1;33m\u001b[0m\u001b[1;33m\u001b[0m\u001b[0m\n",
      "\u001b[1;32m~\\anaconda3\\envs\\mlenv\\lib\\site-packages\\pandas\\core\\internals\\construction.py\u001b[0m in \u001b[0;36m_check_values_indices_shape_match\u001b[1;34m(values, index, columns)\u001b[0m\n\u001b[0;32m    391\u001b[0m         \u001b[0mpassed\u001b[0m \u001b[1;33m=\u001b[0m \u001b[0mvalues\u001b[0m\u001b[1;33m.\u001b[0m\u001b[0mshape\u001b[0m\u001b[1;33m\u001b[0m\u001b[1;33m\u001b[0m\u001b[0m\n\u001b[0;32m    392\u001b[0m         \u001b[0mimplied\u001b[0m \u001b[1;33m=\u001b[0m \u001b[1;33m(\u001b[0m\u001b[0mlen\u001b[0m\u001b[1;33m(\u001b[0m\u001b[0mindex\u001b[0m\u001b[1;33m)\u001b[0m\u001b[1;33m,\u001b[0m \u001b[0mlen\u001b[0m\u001b[1;33m(\u001b[0m\u001b[0mcolumns\u001b[0m\u001b[1;33m)\u001b[0m\u001b[1;33m)\u001b[0m\u001b[1;33m\u001b[0m\u001b[1;33m\u001b[0m\u001b[0m\n\u001b[1;32m--> 393\u001b[1;33m         \u001b[1;32mraise\u001b[0m \u001b[0mValueError\u001b[0m\u001b[1;33m(\u001b[0m\u001b[1;34mf\"Shape of passed values is {passed}, indices imply {implied}\"\u001b[0m\u001b[1;33m)\u001b[0m\u001b[1;33m\u001b[0m\u001b[1;33m\u001b[0m\u001b[0m\n\u001b[0m\u001b[0;32m    394\u001b[0m \u001b[1;33m\u001b[0m\u001b[0m\n\u001b[0;32m    395\u001b[0m \u001b[1;33m\u001b[0m\u001b[0m\n",
      "\u001b[1;31mValueError\u001b[0m: Shape of passed values is (341, 341), indices imply (2, 2)"
     ]
    }
   ],
   "source": [
    "# Calculating the confusion matrix.\n",
    "cm = confusion_matrix(y_test, predictions)\n",
    "\n",
    "# Create a DataFrame from the confusion matrix.\n",
    "cm_df = pd.DataFrame(\n",
    "    cm, index=[\"Actual 0\", \"Actual 1\"], columns=[\"Predicted 0\", \"Predicted 1\"])\n",
    "\n",
    "cm_df\n",
    "\n",
    "# Calculating the accuracy score.\n",
    "acc_score = accuracy_score(y_test, predictions)\n",
    "print(acc_score)\n",
    "print(\"Confusion Matrix\")\n",
    "display(cm_df)\n",
    "print(classification_report(y_test, predictions))"
   ]
  },
  {
   "cell_type": "code",
   "execution_count": 166,
   "id": "898d60d9",
   "metadata": {},
   "outputs": [
    {
     "data": {
      "text/plain": [
       "array([0.36484215, 0.28094664, 0.25956382, 0.09464739])"
      ]
     },
     "execution_count": 166,
     "metadata": {},
     "output_type": "execute_result"
    }
   ],
   "source": [
    "# Calculate feature importance in the Random Forest model.\n",
    "importances = rf_model.feature_importances_\n",
    "importances"
   ]
  },
  {
   "cell_type": "code",
   "execution_count": 167,
   "id": "e78da4c2",
   "metadata": {},
   "outputs": [
    {
     "data": {
      "text/plain": [
       "[(0.3648421531979317, 'city'),\n",
       " (0.2809466408405542, 'bathrooms'),\n",
       " (0.259563817924565, 'bedrooms'),\n",
       " (0.09464738803694916, 'homeType')]"
      ]
     },
     "execution_count": 167,
     "metadata": {},
     "output_type": "execute_result"
    }
   ],
   "source": [
    "# We can sort the features by their importance.\n",
    "sorted(zip(rf_model.feature_importances_, X.columns), reverse=True)"
   ]
  },
  {
   "cell_type": "code",
   "execution_count": null,
   "id": "9ba963b0",
   "metadata": {},
   "outputs": [],
   "source": []
  }
 ],
 "metadata": {
  "kernelspec": {
   "display_name": "mlenv",
   "language": "python",
   "name": "mlenv"
  },
  "language_info": {
   "codemirror_mode": {
    "name": "ipython",
    "version": 3
   },
   "file_extension": ".py",
   "mimetype": "text/x-python",
   "name": "python",
   "nbconvert_exporter": "python",
   "pygments_lexer": "ipython3",
   "version": "3.7.13"
  }
 },
 "nbformat": 4,
 "nbformat_minor": 5
}
