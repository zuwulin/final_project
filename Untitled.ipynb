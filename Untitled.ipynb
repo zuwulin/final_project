{
 "cells": [
  {
   "cell_type": "code",
   "execution_count": 20,
   "id": "2e1b5a1e",
   "metadata": {},
   "outputs": [],
   "source": [
    "import numpy as np\n",
    "import pandas as pd\n",
    "import matplotlib.pyplot as plt\n",
    "from sklearn import linear_model"
   ]
  },
  {
   "cell_type": "code",
   "execution_count": 21,
   "id": "d8ce1174",
   "metadata": {
    "scrolled": true
   },
   "outputs": [
    {
     "data": {
      "text/html": [
       "<div>\n",
       "<style scoped>\n",
       "    .dataframe tbody tr th:only-of-type {\n",
       "        vertical-align: middle;\n",
       "    }\n",
       "\n",
       "    .dataframe tbody tr th {\n",
       "        vertical-align: top;\n",
       "    }\n",
       "\n",
       "    .dataframe thead th {\n",
       "        text-align: right;\n",
       "    }\n",
       "</style>\n",
       "<table border=\"1\" class=\"dataframe\">\n",
       "  <thead>\n",
       "    <tr style=\"text-align: right;\">\n",
       "      <th></th>\n",
       "      <th>Unnamed: 0</th>\n",
       "      <th>listing image</th>\n",
       "      <th>listing url</th>\n",
       "      <th>full address</th>\n",
       "      <th>city</th>\n",
       "      <th>zipcode</th>\n",
       "      <th># of beds</th>\n",
       "      <th># of bathrooms</th>\n",
       "      <th>price</th>\n",
       "      <th>latitude</th>\n",
       "      <th>longitude</th>\n",
       "      <th>home type</th>\n",
       "    </tr>\n",
       "  </thead>\n",
       "  <tbody>\n",
       "    <tr>\n",
       "      <th>0</th>\n",
       "      <td>0</td>\n",
       "      <td>https://photos.zillowstatic.com/fp/23aacb3df57...</td>\n",
       "      <td>https://www.zillow.com/homedetails/6225-Lawren...</td>\n",
       "      <td>6225 Lawrence Ave E, Toronto, ON M1C 5G4</td>\n",
       "      <td>Toronto</td>\n",
       "      <td>M1C5G4</td>\n",
       "      <td>3</td>\n",
       "      <td>4</td>\n",
       "      <td>799900</td>\n",
       "      <td>43.655720</td>\n",
       "      <td>-79.457450</td>\n",
       "      <td>SINGLE_FAMILY</td>\n",
       "    </tr>\n",
       "    <tr>\n",
       "      <th>1</th>\n",
       "      <td>2</td>\n",
       "      <td>https://photos.zillowstatic.com/fp/1cd388cbfce...</td>\n",
       "      <td>https://www.zillow.com/homedetails/3840-Bathur...</td>\n",
       "      <td>3840 Bathurst St #702, Toronto, ON M3H 6C6</td>\n",
       "      <td>Toronto</td>\n",
       "      <td>M3H6C6</td>\n",
       "      <td>2</td>\n",
       "      <td>2</td>\n",
       "      <td>699000</td>\n",
       "      <td>43.623860</td>\n",
       "      <td>-79.488945</td>\n",
       "      <td>CONDO</td>\n",
       "    </tr>\n",
       "    <tr>\n",
       "      <th>2</th>\n",
       "      <td>3</td>\n",
       "      <td>https://photos.zillowstatic.com/fp/1f0037527b3...</td>\n",
       "      <td>https://www.zillow.com/homedetails/8-Littlelea...</td>\n",
       "      <td>8 Littleleaf Dr, Toronto, ON M1B 1Z1</td>\n",
       "      <td>Toronto</td>\n",
       "      <td>M1B1Z1</td>\n",
       "      <td>3</td>\n",
       "      <td>3</td>\n",
       "      <td>1149900</td>\n",
       "      <td>43.723150</td>\n",
       "      <td>-79.448230</td>\n",
       "      <td>CONDO</td>\n",
       "    </tr>\n",
       "    <tr>\n",
       "      <th>3</th>\n",
       "      <td>4</td>\n",
       "      <td>https://photos.zillowstatic.com/fp/780ba993641...</td>\n",
       "      <td>https://www.zillow.com/homedetails/2301-Danfor...</td>\n",
       "      <td>2301 Danforth Ave #306, Toronto, ON M4C 0A7</td>\n",
       "      <td>Toronto</td>\n",
       "      <td>M4C0A7</td>\n",
       "      <td>2</td>\n",
       "      <td>2</td>\n",
       "      <td>699000</td>\n",
       "      <td>43.642390</td>\n",
       "      <td>-79.424736</td>\n",
       "      <td>CONDO</td>\n",
       "    </tr>\n",
       "    <tr>\n",
       "      <th>4</th>\n",
       "      <td>5</td>\n",
       "      <td>https://photos.zillowstatic.com/fp/950875d10ea...</td>\n",
       "      <td>https://www.zillow.com/homedetails/16-Catalda-...</td>\n",
       "      <td>16 Catalda Ct, Toronto, ON M2R 3X5</td>\n",
       "      <td>Toronto</td>\n",
       "      <td>M2R3X5</td>\n",
       "      <td>4</td>\n",
       "      <td>5</td>\n",
       "      <td>2690000</td>\n",
       "      <td>43.641495</td>\n",
       "      <td>-79.410070</td>\n",
       "      <td>CONDO</td>\n",
       "    </tr>\n",
       "  </tbody>\n",
       "</table>\n",
       "</div>"
      ],
      "text/plain": [
       "   Unnamed: 0                                      listing image  \\\n",
       "0           0  https://photos.zillowstatic.com/fp/23aacb3df57...   \n",
       "1           2  https://photos.zillowstatic.com/fp/1cd388cbfce...   \n",
       "2           3  https://photos.zillowstatic.com/fp/1f0037527b3...   \n",
       "3           4  https://photos.zillowstatic.com/fp/780ba993641...   \n",
       "4           5  https://photos.zillowstatic.com/fp/950875d10ea...   \n",
       "\n",
       "                                         listing url  \\\n",
       "0  https://www.zillow.com/homedetails/6225-Lawren...   \n",
       "1  https://www.zillow.com/homedetails/3840-Bathur...   \n",
       "2  https://www.zillow.com/homedetails/8-Littlelea...   \n",
       "3  https://www.zillow.com/homedetails/2301-Danfor...   \n",
       "4  https://www.zillow.com/homedetails/16-Catalda-...   \n",
       "\n",
       "                                  full address     city zipcode  # of beds  \\\n",
       "0     6225 Lawrence Ave E, Toronto, ON M1C 5G4  Toronto  M1C5G4          3   \n",
       "1   3840 Bathurst St #702, Toronto, ON M3H 6C6  Toronto  M3H6C6          2   \n",
       "2         8 Littleleaf Dr, Toronto, ON M1B 1Z1  Toronto  M1B1Z1          3   \n",
       "3  2301 Danforth Ave #306, Toronto, ON M4C 0A7  Toronto  M4C0A7          2   \n",
       "4           16 Catalda Ct, Toronto, ON M2R 3X5  Toronto  M2R3X5          4   \n",
       "\n",
       "   # of bathrooms    price   latitude  longitude      home type  \n",
       "0               4   799900  43.655720 -79.457450  SINGLE_FAMILY  \n",
       "1               2   699000  43.623860 -79.488945          CONDO  \n",
       "2               3  1149900  43.723150 -79.448230          CONDO  \n",
       "3               2   699000  43.642390 -79.424736          CONDO  \n",
       "4               5  2690000  43.641495 -79.410070          CONDO  "
      ]
     },
     "execution_count": 21,
     "metadata": {},
     "output_type": "execute_result"
    }
   ],
   "source": [
    "#load in the csv file for model\n",
    "df = pd.read_csv('resources/GTA_houses_cleaned.csv')\n",
    "df.head()"
   ]
  },
  {
   "cell_type": "code",
   "execution_count": 22,
   "id": "f0276c2a",
   "metadata": {},
   "outputs": [
    {
     "data": {
      "text/html": [
       "<div>\n",
       "<style scoped>\n",
       "    .dataframe tbody tr th:only-of-type {\n",
       "        vertical-align: middle;\n",
       "    }\n",
       "\n",
       "    .dataframe tbody tr th {\n",
       "        vertical-align: top;\n",
       "    }\n",
       "\n",
       "    .dataframe thead th {\n",
       "        text-align: right;\n",
       "    }\n",
       "</style>\n",
       "<table border=\"1\" class=\"dataframe\">\n",
       "  <thead>\n",
       "    <tr style=\"text-align: right;\">\n",
       "      <th></th>\n",
       "      <th>Unnamed: 0</th>\n",
       "      <th>listing image</th>\n",
       "      <th>listing url</th>\n",
       "      <th>full address</th>\n",
       "      <th>city</th>\n",
       "      <th>zipcode</th>\n",
       "      <th>beds</th>\n",
       "      <th>bathrooms</th>\n",
       "      <th>price</th>\n",
       "      <th>latitude</th>\n",
       "      <th>longitude</th>\n",
       "      <th>home type</th>\n",
       "    </tr>\n",
       "  </thead>\n",
       "  <tbody>\n",
       "    <tr>\n",
       "      <th>0</th>\n",
       "      <td>0</td>\n",
       "      <td>https://photos.zillowstatic.com/fp/23aacb3df57...</td>\n",
       "      <td>https://www.zillow.com/homedetails/6225-Lawren...</td>\n",
       "      <td>6225 Lawrence Ave E, Toronto, ON M1C 5G4</td>\n",
       "      <td>Toronto</td>\n",
       "      <td>M1C5G4</td>\n",
       "      <td>3</td>\n",
       "      <td>4</td>\n",
       "      <td>799900</td>\n",
       "      <td>43.655720</td>\n",
       "      <td>-79.457450</td>\n",
       "      <td>SINGLE_FAMILY</td>\n",
       "    </tr>\n",
       "    <tr>\n",
       "      <th>1</th>\n",
       "      <td>2</td>\n",
       "      <td>https://photos.zillowstatic.com/fp/1cd388cbfce...</td>\n",
       "      <td>https://www.zillow.com/homedetails/3840-Bathur...</td>\n",
       "      <td>3840 Bathurst St #702, Toronto, ON M3H 6C6</td>\n",
       "      <td>Toronto</td>\n",
       "      <td>M3H6C6</td>\n",
       "      <td>2</td>\n",
       "      <td>2</td>\n",
       "      <td>699000</td>\n",
       "      <td>43.623860</td>\n",
       "      <td>-79.488945</td>\n",
       "      <td>CONDO</td>\n",
       "    </tr>\n",
       "    <tr>\n",
       "      <th>2</th>\n",
       "      <td>3</td>\n",
       "      <td>https://photos.zillowstatic.com/fp/1f0037527b3...</td>\n",
       "      <td>https://www.zillow.com/homedetails/8-Littlelea...</td>\n",
       "      <td>8 Littleleaf Dr, Toronto, ON M1B 1Z1</td>\n",
       "      <td>Toronto</td>\n",
       "      <td>M1B1Z1</td>\n",
       "      <td>3</td>\n",
       "      <td>3</td>\n",
       "      <td>1149900</td>\n",
       "      <td>43.723150</td>\n",
       "      <td>-79.448230</td>\n",
       "      <td>CONDO</td>\n",
       "    </tr>\n",
       "    <tr>\n",
       "      <th>3</th>\n",
       "      <td>4</td>\n",
       "      <td>https://photos.zillowstatic.com/fp/780ba993641...</td>\n",
       "      <td>https://www.zillow.com/homedetails/2301-Danfor...</td>\n",
       "      <td>2301 Danforth Ave #306, Toronto, ON M4C 0A7</td>\n",
       "      <td>Toronto</td>\n",
       "      <td>M4C0A7</td>\n",
       "      <td>2</td>\n",
       "      <td>2</td>\n",
       "      <td>699000</td>\n",
       "      <td>43.642390</td>\n",
       "      <td>-79.424736</td>\n",
       "      <td>CONDO</td>\n",
       "    </tr>\n",
       "    <tr>\n",
       "      <th>4</th>\n",
       "      <td>5</td>\n",
       "      <td>https://photos.zillowstatic.com/fp/950875d10ea...</td>\n",
       "      <td>https://www.zillow.com/homedetails/16-Catalda-...</td>\n",
       "      <td>16 Catalda Ct, Toronto, ON M2R 3X5</td>\n",
       "      <td>Toronto</td>\n",
       "      <td>M2R3X5</td>\n",
       "      <td>4</td>\n",
       "      <td>5</td>\n",
       "      <td>2690000</td>\n",
       "      <td>43.641495</td>\n",
       "      <td>-79.410070</td>\n",
       "      <td>CONDO</td>\n",
       "    </tr>\n",
       "  </tbody>\n",
       "</table>\n",
       "</div>"
      ],
      "text/plain": [
       "   Unnamed: 0                                      listing image  \\\n",
       "0           0  https://photos.zillowstatic.com/fp/23aacb3df57...   \n",
       "1           2  https://photos.zillowstatic.com/fp/1cd388cbfce...   \n",
       "2           3  https://photos.zillowstatic.com/fp/1f0037527b3...   \n",
       "3           4  https://photos.zillowstatic.com/fp/780ba993641...   \n",
       "4           5  https://photos.zillowstatic.com/fp/950875d10ea...   \n",
       "\n",
       "                                         listing url  \\\n",
       "0  https://www.zillow.com/homedetails/6225-Lawren...   \n",
       "1  https://www.zillow.com/homedetails/3840-Bathur...   \n",
       "2  https://www.zillow.com/homedetails/8-Littlelea...   \n",
       "3  https://www.zillow.com/homedetails/2301-Danfor...   \n",
       "4  https://www.zillow.com/homedetails/16-Catalda-...   \n",
       "\n",
       "                                  full address     city zipcode  beds  \\\n",
       "0     6225 Lawrence Ave E, Toronto, ON M1C 5G4  Toronto  M1C5G4     3   \n",
       "1   3840 Bathurst St #702, Toronto, ON M3H 6C6  Toronto  M3H6C6     2   \n",
       "2         8 Littleleaf Dr, Toronto, ON M1B 1Z1  Toronto  M1B1Z1     3   \n",
       "3  2301 Danforth Ave #306, Toronto, ON M4C 0A7  Toronto  M4C0A7     2   \n",
       "4           16 Catalda Ct, Toronto, ON M2R 3X5  Toronto  M2R3X5     4   \n",
       "\n",
       "   bathrooms    price   latitude  longitude      home type  \n",
       "0          4   799900  43.655720 -79.457450  SINGLE_FAMILY  \n",
       "1          2   699000  43.623860 -79.488945          CONDO  \n",
       "2          3  1149900  43.723150 -79.448230          CONDO  \n",
       "3          2   699000  43.642390 -79.424736          CONDO  \n",
       "4          5  2690000  43.641495 -79.410070          CONDO  "
      ]
     },
     "execution_count": 22,
     "metadata": {},
     "output_type": "execute_result"
    }
   ],
   "source": [
    "#change column names for easier reading\n",
    "df.columns = ['Unnamed: 0', \"listing image\", \"listing url\", \"full address\", \"city\", \"zipcode\", \"beds\", \"bathrooms\", \"price\", \"latitude\", \"longitude\", \"home type\"]\n",
    "\n",
    "#check dataframe again\n",
    "df.head()"
   ]
  },
  {
   "cell_type": "code",
   "execution_count": 37,
   "id": "8c6d641d",
   "metadata": {},
   "outputs": [
    {
     "data": {
      "text/html": [
       "<div>\n",
       "<style scoped>\n",
       "    .dataframe tbody tr th:only-of-type {\n",
       "        vertical-align: middle;\n",
       "    }\n",
       "\n",
       "    .dataframe tbody tr th {\n",
       "        vertical-align: top;\n",
       "    }\n",
       "\n",
       "    .dataframe thead th {\n",
       "        text-align: right;\n",
       "    }\n",
       "</style>\n",
       "<table border=\"1\" class=\"dataframe\">\n",
       "  <thead>\n",
       "    <tr style=\"text-align: right;\">\n",
       "      <th></th>\n",
       "      <th>beds</th>\n",
       "      <th>bathrooms</th>\n",
       "    </tr>\n",
       "  </thead>\n",
       "  <tbody>\n",
       "    <tr>\n",
       "      <th>0</th>\n",
       "      <td>3</td>\n",
       "      <td>4</td>\n",
       "    </tr>\n",
       "    <tr>\n",
       "      <th>1</th>\n",
       "      <td>2</td>\n",
       "      <td>2</td>\n",
       "    </tr>\n",
       "    <tr>\n",
       "      <th>2</th>\n",
       "      <td>3</td>\n",
       "      <td>3</td>\n",
       "    </tr>\n",
       "    <tr>\n",
       "      <th>3</th>\n",
       "      <td>2</td>\n",
       "      <td>2</td>\n",
       "    </tr>\n",
       "    <tr>\n",
       "      <th>4</th>\n",
       "      <td>4</td>\n",
       "      <td>5</td>\n",
       "    </tr>\n",
       "  </tbody>\n",
       "</table>\n",
       "</div>"
      ],
      "text/plain": [
       "   beds  bathrooms\n",
       "0     3          4\n",
       "1     2          2\n",
       "2     3          3\n",
       "3     2          2\n",
       "4     4          5"
      ]
     },
     "execution_count": 37,
     "metadata": {},
     "output_type": "execute_result"
    }
   ],
   "source": [
    "X = df.copy()\n",
    "X = X.drop(['price', 'listing image', 'listing url', 'full address', 'zipcode', 'latitude', 'longitude', 'Unnamed: 0', 'city', 'home type'], axis=1)\n",
    "X.head()"
   ]
  },
  {
   "cell_type": "code",
   "execution_count": 38,
   "id": "5bb70d98",
   "metadata": {},
   "outputs": [
    {
     "data": {
      "text/plain": [
       "0      799900\n",
       "1      699000\n",
       "2     1149900\n",
       "3      699000\n",
       "4     2690000\n",
       "5      829000\n",
       "6      299999\n",
       "7      924900\n",
       "8      769000\n",
       "9     7288000\n",
       "10     649900\n",
       "11    1185000\n",
       "12     799000\n",
       "13     999000\n",
       "14     750000\n",
       "Name: price, dtype: int64"
      ]
     },
     "execution_count": 38,
     "metadata": {},
     "output_type": "execute_result"
    }
   ],
   "source": [
    "y = df['price']\n",
    "y[:15]"
   ]
  },
  {
   "cell_type": "code",
   "execution_count": 39,
   "id": "35344816",
   "metadata": {},
   "outputs": [
    {
     "name": "stdout",
     "output_type": "stream",
     "text": [
      "Total no of training examples (m) = 1908 \n",
      "\n"
     ]
    }
   ],
   "source": [
    "m = len(y) # Number of training examples\n",
    "print('Total no of training examples (m) = %s \\n' %(m))"
   ]
  },
  {
   "cell_type": "code",
   "execution_count": 46,
   "id": "35211b91",
   "metadata": {},
   "outputs": [
    {
     "name": "stderr",
     "output_type": "stream",
     "text": [
      "C:\\Users\\Ari\\anaconda3\\envs\\mlenv\\lib\\site-packages\\sklearn\\linear_model\\_base.py:145: FutureWarning: 'normalize' was deprecated in version 1.0 and will be removed in 1.2.\n",
      "If you wish to scale the data, use Pipeline with a StandardScaler in a preprocessing stage. To reproduce the previous behavior:\n",
      "\n",
      "from sklearn.pipeline import make_pipeline\n",
      "\n",
      "model = make_pipeline(StandardScaler(with_mean=False), LinearRegression())\n",
      "\n",
      "If you wish to pass a sample_weight parameter, you need to pass it as a fit parameter to each step of the pipeline as follows:\n",
      "\n",
      "kwargs = {s[0] + '__sample_weight': sample_weight for s in model.steps}\n",
      "model.fit(X, y, **kwargs)\n",
      "\n",
      "\n",
      "  FutureWarning,\n"
     ]
    },
    {
     "data": {
      "text/plain": [
       "LinearRegression(normalize=True)"
      ]
     },
     "execution_count": 46,
     "metadata": {},
     "output_type": "execute_result"
    }
   ],
   "source": [
    "model_ols =  linear_model.LinearRegression(normalize=True)\n",
    "model_ols.fit(X,y) "
   ]
  },
  {
   "cell_type": "code",
   "execution_count": 41,
   "id": "932ae133",
   "metadata": {},
   "outputs": [
    {
     "data": {
      "text/plain": [
       "LinearRegression(normalize=True)"
      ]
     },
     "execution_count": 41,
     "metadata": {},
     "output_type": "execute_result"
    }
   ],
   "source": [
    "LinearRegression(copy_X=True, fit_intercept=True, n_jobs=None, normalize=True)"
   ]
  },
  {
   "cell_type": "code",
   "execution_count": 42,
   "id": "9f74fb87",
   "metadata": {},
   "outputs": [
    {
     "name": "stdout",
     "output_type": "stream",
     "text": [
      "coef=  [-107286.74238224  423581.56164497]\n",
      "intercept=  683240.7980756849\n"
     ]
    }
   ],
   "source": [
    "coef = model_ols.coef_\n",
    "intercept = model_ols.intercept_\n",
    "print('coef= ', coef)\n",
    "print('intercept= ', intercept)"
   ]
  },
  {
   "cell_type": "code",
   "execution_count": 43,
   "id": "06871138",
   "metadata": {},
   "outputs": [
    {
     "data": {
      "text/html": [
       "<div>\n",
       "<style scoped>\n",
       "    .dataframe tbody tr th:only-of-type {\n",
       "        vertical-align: middle;\n",
       "    }\n",
       "\n",
       "    .dataframe tbody tr th {\n",
       "        vertical-align: top;\n",
       "    }\n",
       "\n",
       "    .dataframe thead th {\n",
       "        text-align: right;\n",
       "    }\n",
       "</style>\n",
       "<table border=\"1\" class=\"dataframe\">\n",
       "  <thead>\n",
       "    <tr style=\"text-align: right;\">\n",
       "      <th></th>\n",
       "      <th>0</th>\n",
       "      <th>1</th>\n",
       "      <th>2</th>\n",
       "      <th>3</th>\n",
       "      <th>4</th>\n",
       "      <th>5</th>\n",
       "      <th>6</th>\n",
       "      <th>7</th>\n",
       "      <th>8</th>\n",
       "      <th>9</th>\n",
       "      <th>...</th>\n",
       "      <th>1898</th>\n",
       "      <th>1899</th>\n",
       "      <th>1900</th>\n",
       "      <th>1901</th>\n",
       "      <th>1902</th>\n",
       "      <th>1903</th>\n",
       "      <th>1904</th>\n",
       "      <th>1905</th>\n",
       "      <th>1906</th>\n",
       "      <th>1907</th>\n",
       "    </tr>\n",
       "  </thead>\n",
       "  <tbody>\n",
       "    <tr>\n",
       "      <th>Actual Price</th>\n",
       "      <td>NaN</td>\n",
       "      <td>NaN</td>\n",
       "      <td>NaN</td>\n",
       "      <td>NaN</td>\n",
       "      <td>NaN</td>\n",
       "      <td>NaN</td>\n",
       "      <td>NaN</td>\n",
       "      <td>NaN</td>\n",
       "      <td>NaN</td>\n",
       "      <td>NaN</td>\n",
       "      <td>...</td>\n",
       "      <td>NaN</td>\n",
       "      <td>NaN</td>\n",
       "      <td>NaN</td>\n",
       "      <td>NaN</td>\n",
       "      <td>NaN</td>\n",
       "      <td>NaN</td>\n",
       "      <td>NaN</td>\n",
       "      <td>NaN</td>\n",
       "      <td>NaN</td>\n",
       "      <td>NaN</td>\n",
       "    </tr>\n",
       "    <tr>\n",
       "      <th>Predicted Price</th>\n",
       "      <td>2055706.817509</td>\n",
       "      <td>1315830.436601</td>\n",
       "      <td>1632125.255864</td>\n",
       "      <td>1315830.436601</td>\n",
       "      <td>2372001.636772</td>\n",
       "      <td>1315830.436601</td>\n",
       "      <td>999535.617338</td>\n",
       "      <td>1208543.694219</td>\n",
       "      <td>1315830.436601</td>\n",
       "      <td>2795583.198417</td>\n",
       "      <td>...</td>\n",
       "      <td>1948420.075127</td>\n",
       "      <td>1632125.255864</td>\n",
       "      <td>2479288.379154</td>\n",
       "      <td>999535.617338</td>\n",
       "      <td>1948420.075127</td>\n",
       "      <td>2055706.817509</td>\n",
       "      <td>1315830.436601</td>\n",
       "      <td>1948420.075127</td>\n",
       "      <td>1423117.178983</td>\n",
       "      <td>2372001.636772</td>\n",
       "    </tr>\n",
       "  </tbody>\n",
       "</table>\n",
       "<p>2 rows × 1908 columns</p>\n",
       "</div>"
      ],
      "text/plain": [
       "                           0               1               2     \\\n",
       "Actual Price                NaN             NaN             NaN   \n",
       "Predicted Price  2055706.817509  1315830.436601  1632125.255864   \n",
       "\n",
       "                           3               4               5     \\\n",
       "Actual Price                NaN             NaN             NaN   \n",
       "Predicted Price  1315830.436601  2372001.636772  1315830.436601   \n",
       "\n",
       "                          6               7               8     \\\n",
       "Actual Price               NaN             NaN             NaN   \n",
       "Predicted Price  999535.617338  1208543.694219  1315830.436601   \n",
       "\n",
       "                           9     ...            1898            1899  \\\n",
       "Actual Price                NaN  ...             NaN             NaN   \n",
       "Predicted Price  2795583.198417  ...  1948420.075127  1632125.255864   \n",
       "\n",
       "                           1900           1901            1902  \\\n",
       "Actual Price                NaN            NaN             NaN   \n",
       "Predicted Price  2479288.379154  999535.617338  1948420.075127   \n",
       "\n",
       "                           1903            1904            1905  \\\n",
       "Actual Price                NaN             NaN             NaN   \n",
       "Predicted Price  2055706.817509  1315830.436601  1948420.075127   \n",
       "\n",
       "                           1906            1907  \n",
       "Actual Price                NaN             NaN  \n",
       "Predicted Price  1423117.178983  2372001.636772  \n",
       "\n",
       "[2 rows x 1908 columns]"
      ]
     },
     "execution_count": 43,
     "metadata": {},
     "output_type": "execute_result"
    }
   ],
   "source": [
    "predictedPrice = pd.DataFrame(model_ols.predict(X), columns=['Predicted Price']) # Create new dataframe of column'Predicted Price'\n",
    "actualPrice = pd.DataFrame(y, columns=['Actual Price'])\n",
    "actualPrice = actualPrice.reset_index(drop=True) # Drop the index so that we can concat it, to create new dataframe\n",
    "df_actual_vs_predicted = pd.concat([actualPrice,predictedPrice],axis =1)\n",
    "df_actual_vs_predicted.T"
   ]
  },
  {
   "cell_type": "code",
   "execution_count": 44,
   "id": "652f7d51",
   "metadata": {},
   "outputs": [
    {
     "data": {
      "text/plain": [
       "Text(0.5, 1.0, 'Price From Dataset Vs Price Predicted By Model')"
      ]
     },
     "execution_count": 44,
     "metadata": {},
     "output_type": "execute_result"
    },
    {
     "data": {
      "image/png": "[encoded data removed]",
      "text/plain": [
       "<Figure size 432x288 with 1 Axes>"
      ]
     },
     "metadata": {
      "needs_background": "light"
     },
     "output_type": "display_data"
    }
   ],
   "source": [
    "plt.scatter(y, model_ols.predict(X))\n",
    "plt.xlabel('Price From Dataset')\n",
    "plt.ylabel('Price Predicted By Model')\n",
    "plt.rcParams[\"figure.figsize\"] = (10,6) # Custom figure size in inches\n",
    "plt.title(\"Price From Dataset Vs Price Predicted By Model\")"
   ]
  },
  {
   "cell_type": "code",
   "execution_count": null,
   "id": "6e04d59f",
   "metadata": {},
   "outputs": [],
   "source": []
  }
 ],
 "metadata": {
  "kernelspec": {
   "display_name": "mlenv",
   "language": "python",
   "name": "mlenv"
  },
  "language_info": {
   "codemirror_mode": {
    "name": "ipython",
    "version": 3
   },
   "file_extension": ".py",
   "mimetype": "text/x-python",
   "name": "python",
   "nbconvert_exporter": "python",
   "pygments_lexer": "ipython3",
   "version": "3.7.13"
  }
 },
 "nbformat": 4,
 "nbformat_minor": 5
}
