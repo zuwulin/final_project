{
 "cells": [
  {
   "cell_type": "code",
   "execution_count": 2,
   "id": "84c90283",
   "metadata": {},
   "outputs": [],
   "source": [
    "import pandas as pd"
   ]
  },
  {
   "cell_type": "code",
   "execution_count": 3,
   "id": "daab2c53",
   "metadata": {},
   "outputs": [
    {
     "data": {
      "text/html": [
       "<div>\n",
       "<style scoped>\n",
       "    .dataframe tbody tr th:only-of-type {\n",
       "        vertical-align: middle;\n",
       "    }\n",
       "\n",
       "    .dataframe tbody tr th {\n",
       "        vertical-align: top;\n",
       "    }\n",
       "\n",
       "    .dataframe thead th {\n",
       "        text-align: right;\n",
       "    }\n",
       "</style>\n",
       "<table border=\"1\" class=\"dataframe\">\n",
       "  <thead>\n",
       "    <tr style=\"text-align: right;\">\n",
       "      <th></th>\n",
       "      <th>listing image</th>\n",
       "      <th>listing url</th>\n",
       "      <th>full address</th>\n",
       "      <th>city</th>\n",
       "      <th>zipcode</th>\n",
       "      <th># of beds</th>\n",
       "      <th># of bathrooms</th>\n",
       "      <th>price</th>\n",
       "      <th>latitude</th>\n",
       "      <th>longitude</th>\n",
       "      <th>home type</th>\n",
       "    </tr>\n",
       "  </thead>\n",
       "  <tbody>\n",
       "    <tr>\n",
       "      <th>0</th>\n",
       "      <td>https://photos.zillowstatic.com/fp/23aacb3df57...</td>\n",
       "      <td>https://www.zillow.com/homedetails/6225-Lawren...</td>\n",
       "      <td>6225 Lawrence Ave E, Toronto, ON M1C 5G4</td>\n",
       "      <td>Toronto</td>\n",
       "      <td>M1C5G4</td>\n",
       "      <td>3</td>\n",
       "      <td>4</td>\n",
       "      <td>799900</td>\n",
       "      <td>43.655720</td>\n",
       "      <td>-79.457450</td>\n",
       "      <td>SINGLE_FAMILY</td>\n",
       "    </tr>\n",
       "    <tr>\n",
       "      <th>1</th>\n",
       "      <td>https://photos.zillowstatic.com/fp/1cd388cbfce...</td>\n",
       "      <td>https://www.zillow.com/homedetails/3840-Bathur...</td>\n",
       "      <td>3840 Bathurst St #702, Toronto, ON M3H 6C6</td>\n",
       "      <td>Toronto</td>\n",
       "      <td>M3H6C6</td>\n",
       "      <td>2</td>\n",
       "      <td>2</td>\n",
       "      <td>699000</td>\n",
       "      <td>43.623860</td>\n",
       "      <td>-79.488945</td>\n",
       "      <td>CONDO</td>\n",
       "    </tr>\n",
       "    <tr>\n",
       "      <th>2</th>\n",
       "      <td>https://photos.zillowstatic.com/fp/1f0037527b3...</td>\n",
       "      <td>https://www.zillow.com/homedetails/8-Littlelea...</td>\n",
       "      <td>8 Littleleaf Dr, Toronto, ON M1B 1Z1</td>\n",
       "      <td>Toronto</td>\n",
       "      <td>M1B1Z1</td>\n",
       "      <td>3</td>\n",
       "      <td>3</td>\n",
       "      <td>1149900</td>\n",
       "      <td>43.723150</td>\n",
       "      <td>-79.448230</td>\n",
       "      <td>CONDO</td>\n",
       "    </tr>\n",
       "    <tr>\n",
       "      <th>3</th>\n",
       "      <td>https://photos.zillowstatic.com/fp/780ba993641...</td>\n",
       "      <td>https://www.zillow.com/homedetails/2301-Danfor...</td>\n",
       "      <td>2301 Danforth Ave #306, Toronto, ON M4C 0A7</td>\n",
       "      <td>Toronto</td>\n",
       "      <td>M4C0A7</td>\n",
       "      <td>2</td>\n",
       "      <td>2</td>\n",
       "      <td>699000</td>\n",
       "      <td>43.642390</td>\n",
       "      <td>-79.424736</td>\n",
       "      <td>CONDO</td>\n",
       "    </tr>\n",
       "    <tr>\n",
       "      <th>4</th>\n",
       "      <td>https://photos.zillowstatic.com/fp/950875d10ea...</td>\n",
       "      <td>https://www.zillow.com/homedetails/16-Catalda-...</td>\n",
       "      <td>16 Catalda Ct, Toronto, ON M2R 3X5</td>\n",
       "      <td>Toronto</td>\n",
       "      <td>M2R3X5</td>\n",
       "      <td>4</td>\n",
       "      <td>5</td>\n",
       "      <td>2690000</td>\n",
       "      <td>43.641495</td>\n",
       "      <td>-79.410070</td>\n",
       "      <td>CONDO</td>\n",
       "    </tr>\n",
       "  </tbody>\n",
       "</table>\n",
       "</div>"
      ],
      "text/plain": [
       "                                       listing image  \\\n",
       "0  https://photos.zillowstatic.com/fp/23aacb3df57...   \n",
       "1  https://photos.zillowstatic.com/fp/1cd388cbfce...   \n",
       "2  https://photos.zillowstatic.com/fp/1f0037527b3...   \n",
       "3  https://photos.zillowstatic.com/fp/780ba993641...   \n",
       "4  https://photos.zillowstatic.com/fp/950875d10ea...   \n",
       "\n",
       "                                         listing url  \\\n",
       "0  https://www.zillow.com/homedetails/6225-Lawren...   \n",
       "1  https://www.zillow.com/homedetails/3840-Bathur...   \n",
       "2  https://www.zillow.com/homedetails/8-Littlelea...   \n",
       "3  https://www.zillow.com/homedetails/2301-Danfor...   \n",
       "4  https://www.zillow.com/homedetails/16-Catalda-...   \n",
       "\n",
       "                                  full address     city zipcode  # of beds  \\\n",
       "0     6225 Lawrence Ave E, Toronto, ON M1C 5G4  Toronto  M1C5G4          3   \n",
       "1   3840 Bathurst St #702, Toronto, ON M3H 6C6  Toronto  M3H6C6          2   \n",
       "2         8 Littleleaf Dr, Toronto, ON M1B 1Z1  Toronto  M1B1Z1          3   \n",
       "3  2301 Danforth Ave #306, Toronto, ON M4C 0A7  Toronto  M4C0A7          2   \n",
       "4           16 Catalda Ct, Toronto, ON M2R 3X5  Toronto  M2R3X5          4   \n",
       "\n",
       "   # of bathrooms    price   latitude  longitude      home type  \n",
       "0               4   799900  43.655720 -79.457450  SINGLE_FAMILY  \n",
       "1               2   699000  43.623860 -79.488945          CONDO  \n",
       "2               3  1149900  43.723150 -79.448230          CONDO  \n",
       "3               2   699000  43.642390 -79.424736          CONDO  \n",
       "4               5  2690000  43.641495 -79.410070          CONDO  "
      ]
     },
     "execution_count": 3,
     "metadata": {},
     "output_type": "execute_result"
    }
   ],
   "source": [
    "df = pd.read_csv('resources/GTA_houses_cleaned.csv')\n",
    "df.head()"
   ]
  },
  {
   "cell_type": "code",
   "execution_count": 4,
   "id": "7141c8ae",
   "metadata": {},
   "outputs": [
    {
     "data": {
      "text/plain": [
       "(1893, 11)"
      ]
     },
     "execution_count": 4,
     "metadata": {},
     "output_type": "execute_result"
    }
   ],
   "source": [
    "df.shape"
   ]
  },
  {
   "cell_type": "code",
   "execution_count": 5,
   "id": "1dbc402a",
   "metadata": {},
   "outputs": [
    {
     "name": "stdout",
     "output_type": "stream",
     "text": [
      "Data for Modeling: (1704, 11)\n",
      "Unseen Data For Predictions: (189, 11)\n"
     ]
    }
   ],
   "source": [
    "data = df.sample(frac=0.9, random_state=786).reset_index(drop=True)\n",
    "data_unseen = df.drop(data.index).reset_index(drop=True)\n",
    "\n",
    "print('Data for Modeling: ' + str(data.shape))\n",
    "print('Unseen Data For Predictions: ' + str(data_unseen.shape))"
   ]
  },
  {
   "cell_type": "code",
   "execution_count": 1,
   "id": "09bf05c7",
   "metadata": {},
   "outputs": [
    {
     "ename": "ModuleNotFoundError",
     "evalue": "No module named 'pycaret'",
     "output_type": "error",
     "traceback": [
      "\u001b[1;31m---------------------------------------------------------------------------\u001b[0m",
      "\u001b[1;31mModuleNotFoundError\u001b[0m                       Traceback (most recent call last)",
      "\u001b[1;32m~\\AppData\\Local\\Temp\\ipykernel_17268\\215956045.py\u001b[0m in \u001b[0;36m<module>\u001b[1;34m\u001b[0m\n\u001b[1;32m----> 1\u001b[1;33m \u001b[1;32mfrom\u001b[0m \u001b[0mpycaret\u001b[0m\u001b[1;33m.\u001b[0m\u001b[0mregression\u001b[0m \u001b[1;32mimport\u001b[0m \u001b[1;33m*\u001b[0m\u001b[1;33m\u001b[0m\u001b[1;33m\u001b[0m\u001b[0m\n\u001b[0m",
      "\u001b[1;31mModuleNotFoundError\u001b[0m: No module named 'pycaret'"
     ]
    }
   ],
   "source": [
    "from pycaret.regression import *"
   ]
  },
  {
   "cell_type": "code",
   "execution_count": 2,
   "id": "37c7bab0",
   "metadata": {},
   "outputs": [
    {
     "ename": "ModuleNotFoundError",
     "evalue": "No module named 'pycaret'",
     "output_type": "error",
     "traceback": [
      "\u001b[1;31m---------------------------------------------------------------------------\u001b[0m",
      "\u001b[1;31mModuleNotFoundError\u001b[0m                       Traceback (most recent call last)",
      "\u001b[1;32m~\\AppData\\Local\\Temp\\ipykernel_17268\\2794661299.py\u001b[0m in \u001b[0;36m<module>\u001b[1;34m\u001b[0m\n\u001b[1;32m----> 1\u001b[1;33m \u001b[1;32mimport\u001b[0m \u001b[0mpycaret\u001b[0m\u001b[1;33m\u001b[0m\u001b[1;33m\u001b[0m\u001b[0m\n\u001b[0m",
      "\u001b[1;31mModuleNotFoundError\u001b[0m: No module named 'pycaret'"
     ]
    }
   ],
   "source": []
  },
  {
   "cell_type": "code",
   "execution_count": null,
   "id": "9c09972c",
   "metadata": {},
   "outputs": [],
   "source": []
  }
 ],
 "metadata": {
  "kernelspec": {
   "display_name": "mlenv",
   "language": "python",
   "name": "mlenv"
  },
  "language_info": {
   "codemirror_mode": {
    "name": "ipython",
    "version": 3
   },
   "file_extension": ".py",
   "mimetype": "text/x-python",
   "name": "python",
   "nbconvert_exporter": "python",
   "pygments_lexer": "ipython3",
   "version": "3.7.13"
  }
 },
 "nbformat": 4,
 "nbformat_minor": 5
}
