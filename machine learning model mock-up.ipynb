{
 "cells": [
  {
   "cell_type": "code",
   "execution_count": 11,
   "id": "3c84f5dc",
   "metadata": {},
   "outputs": [],
   "source": [
    "# Initial imports.\n",
    "import pandas as pd\n",
    "from sklearn.ensemble import RandomForestClassifier\n",
    "from sklearn.preprocessing import StandardScaler\n",
    "from sklearn.model_selection import train_test_split\n",
    "from sklearn.metrics import confusion_matrix, accuracy_score, classification_report"
   ]
  },
  {
   "cell_type": "code",
   "execution_count": 12,
   "id": "deea4c3c",
   "metadata": {},
   "outputs": [
    {
     "data": {
      "text/html": [
       "<div>\n",
       "<style scoped>\n",
       "    .dataframe tbody tr th:only-of-type {\n",
       "        vertical-align: middle;\n",
       "    }\n",
       "\n",
       "    .dataframe tbody tr th {\n",
       "        vertical-align: top;\n",
       "    }\n",
       "\n",
       "    .dataframe thead th {\n",
       "        text-align: right;\n",
       "    }\n",
       "</style>\n",
       "<table border=\"1\" class=\"dataframe\">\n",
       "  <thead>\n",
       "    <tr style=\"text-align: right;\">\n",
       "      <th></th>\n",
       "      <th>listing image</th>\n",
       "      <th>listing url</th>\n",
       "      <th>full address</th>\n",
       "      <th>city</th>\n",
       "      <th>zipcode</th>\n",
       "      <th># of beds</th>\n",
       "      <th># of bathrooms</th>\n",
       "      <th>price</th>\n",
       "      <th>latitude</th>\n",
       "      <th>longitude</th>\n",
       "      <th>home type</th>\n",
       "    </tr>\n",
       "  </thead>\n",
       "  <tbody>\n",
       "    <tr>\n",
       "      <th>0</th>\n",
       "      <td>https://photos.zillowstatic.com/fp/23aacb3df57...</td>\n",
       "      <td>https://www.zillow.com/homedetails/6225-Lawren...</td>\n",
       "      <td>6225 Lawrence Ave E, Toronto, ON M1C 5G4</td>\n",
       "      <td>Toronto</td>\n",
       "      <td>M1C5G4</td>\n",
       "      <td>3</td>\n",
       "      <td>4</td>\n",
       "      <td>799900</td>\n",
       "      <td>43.655720</td>\n",
       "      <td>-79.457450</td>\n",
       "      <td>SINGLE_FAMILY</td>\n",
       "    </tr>\n",
       "    <tr>\n",
       "      <th>1</th>\n",
       "      <td>https://photos.zillowstatic.com/fp/1cd388cbfce...</td>\n",
       "      <td>https://www.zillow.com/homedetails/3840-Bathur...</td>\n",
       "      <td>3840 Bathurst St #702, Toronto, ON M3H 6C6</td>\n",
       "      <td>Toronto</td>\n",
       "      <td>M3H6C6</td>\n",
       "      <td>2</td>\n",
       "      <td>2</td>\n",
       "      <td>699000</td>\n",
       "      <td>43.623860</td>\n",
       "      <td>-79.488945</td>\n",
       "      <td>CONDO</td>\n",
       "    </tr>\n",
       "    <tr>\n",
       "      <th>2</th>\n",
       "      <td>https://photos.zillowstatic.com/fp/1f0037527b3...</td>\n",
       "      <td>https://www.zillow.com/homedetails/8-Littlelea...</td>\n",
       "      <td>8 Littleleaf Dr, Toronto, ON M1B 1Z1</td>\n",
       "      <td>Toronto</td>\n",
       "      <td>M1B1Z1</td>\n",
       "      <td>3</td>\n",
       "      <td>3</td>\n",
       "      <td>1149900</td>\n",
       "      <td>43.723150</td>\n",
       "      <td>-79.448230</td>\n",
       "      <td>CONDO</td>\n",
       "    </tr>\n",
       "    <tr>\n",
       "      <th>3</th>\n",
       "      <td>https://photos.zillowstatic.com/fp/780ba993641...</td>\n",
       "      <td>https://www.zillow.com/homedetails/2301-Danfor...</td>\n",
       "      <td>2301 Danforth Ave #306, Toronto, ON M4C 0A7</td>\n",
       "      <td>Toronto</td>\n",
       "      <td>M4C0A7</td>\n",
       "      <td>2</td>\n",
       "      <td>2</td>\n",
       "      <td>699000</td>\n",
       "      <td>43.642390</td>\n",
       "      <td>-79.424736</td>\n",
       "      <td>CONDO</td>\n",
       "    </tr>\n",
       "    <tr>\n",
       "      <th>4</th>\n",
       "      <td>https://photos.zillowstatic.com/fp/950875d10ea...</td>\n",
       "      <td>https://www.zillow.com/homedetails/16-Catalda-...</td>\n",
       "      <td>16 Catalda Ct, Toronto, ON M2R 3X5</td>\n",
       "      <td>Toronto</td>\n",
       "      <td>M2R3X5</td>\n",
       "      <td>4</td>\n",
       "      <td>5</td>\n",
       "      <td>2690000</td>\n",
       "      <td>43.641495</td>\n",
       "      <td>-79.410070</td>\n",
       "      <td>CONDO</td>\n",
       "    </tr>\n",
       "  </tbody>\n",
       "</table>\n",
       "</div>"
      ],
      "text/plain": [
       "                                       listing image  \\\n",
       "0  https://photos.zillowstatic.com/fp/23aacb3df57...   \n",
       "1  https://photos.zillowstatic.com/fp/1cd388cbfce...   \n",
       "2  https://photos.zillowstatic.com/fp/1f0037527b3...   \n",
       "3  https://photos.zillowstatic.com/fp/780ba993641...   \n",
       "4  https://photos.zillowstatic.com/fp/950875d10ea...   \n",
       "\n",
       "                                         listing url  \\\n",
       "0  https://www.zillow.com/homedetails/6225-Lawren...   \n",
       "1  https://www.zillow.com/homedetails/3840-Bathur...   \n",
       "2  https://www.zillow.com/homedetails/8-Littlelea...   \n",
       "3  https://www.zillow.com/homedetails/2301-Danfor...   \n",
       "4  https://www.zillow.com/homedetails/16-Catalda-...   \n",
       "\n",
       "                                  full address     city zipcode  # of beds  \\\n",
       "0     6225 Lawrence Ave E, Toronto, ON M1C 5G4  Toronto  M1C5G4          3   \n",
       "1   3840 Bathurst St #702, Toronto, ON M3H 6C6  Toronto  M3H6C6          2   \n",
       "2         8 Littleleaf Dr, Toronto, ON M1B 1Z1  Toronto  M1B1Z1          3   \n",
       "3  2301 Danforth Ave #306, Toronto, ON M4C 0A7  Toronto  M4C0A7          2   \n",
       "4           16 Catalda Ct, Toronto, ON M2R 3X5  Toronto  M2R3X5          4   \n",
       "\n",
       "   # of bathrooms    price   latitude  longitude      home type  \n",
       "0               4   799900  43.655720 -79.457450  SINGLE_FAMILY  \n",
       "1               2   699000  43.623860 -79.488945          CONDO  \n",
       "2               3  1149900  43.723150 -79.448230          CONDO  \n",
       "3               2   699000  43.642390 -79.424736          CONDO  \n",
       "4               5  2690000  43.641495 -79.410070          CONDO  "
      ]
     },
     "execution_count": 12,
     "metadata": {},
     "output_type": "execute_result"
    }
   ],
   "source": [
    "#load in the csv file for model\n",
    "df = pd.read_csv('resources/GTA_houses_cleaned.csv')\n",
    "df.head()"
   ]
  },
  {
   "cell_type": "code",
   "execution_count": 13,
   "id": "4e90ade4",
   "metadata": {},
   "outputs": [
    {
     "data": {
      "text/plain": [
       "(1893, 11)"
      ]
     },
     "execution_count": 13,
     "metadata": {},
     "output_type": "execute_result"
    }
   ],
   "source": [
    "#check how many rows and columns we have\n",
    "df.shape"
   ]
  },
  {
   "cell_type": "code",
   "execution_count": 14,
   "id": "b85aef72",
   "metadata": {},
   "outputs": [
    {
     "name": "stdout",
     "output_type": "stream",
     "text": [
      "<class 'pandas.core.frame.DataFrame'>\n",
      "RangeIndex: 1893 entries, 0 to 1892\n",
      "Data columns (total 11 columns):\n",
      " #   Column          Non-Null Count  Dtype  \n",
      "---  ------          --------------  -----  \n",
      " 0   listing image   1893 non-null   object \n",
      " 1   listing url     1893 non-null   object \n",
      " 2   full address    1893 non-null   object \n",
      " 3   city            1893 non-null   object \n",
      " 4   zipcode         1893 non-null   object \n",
      " 5   # of beds       1893 non-null   int64  \n",
      " 6   # of bathrooms  1893 non-null   int64  \n",
      " 7   price           1893 non-null   int64  \n",
      " 8   latitude        1893 non-null   float64\n",
      " 9   longitude       1893 non-null   float64\n",
      " 10  home type       1893 non-null   object \n",
      "dtypes: float64(2), int64(3), object(6)\n",
      "memory usage: 162.8+ KB\n"
     ]
    }
   ],
   "source": [
    "df.info()"
   ]
  },
  {
   "cell_type": "code",
   "execution_count": 15,
   "id": "e375d0db",
   "metadata": {
    "scrolled": false
   },
   "outputs": [
    {
     "data": {
      "text/html": [
       "<div>\n",
       "<style scoped>\n",
       "    .dataframe tbody tr th:only-of-type {\n",
       "        vertical-align: middle;\n",
       "    }\n",
       "\n",
       "    .dataframe tbody tr th {\n",
       "        vertical-align: top;\n",
       "    }\n",
       "\n",
       "    .dataframe thead th {\n",
       "        text-align: right;\n",
       "    }\n",
       "</style>\n",
       "<table border=\"1\" class=\"dataframe\">\n",
       "  <thead>\n",
       "    <tr style=\"text-align: right;\">\n",
       "      <th></th>\n",
       "      <th>listing image</th>\n",
       "      <th>listing url</th>\n",
       "      <th>full address</th>\n",
       "      <th>zipcode</th>\n",
       "      <th># of beds</th>\n",
       "      <th># of bathrooms</th>\n",
       "      <th>price</th>\n",
       "      <th>latitude</th>\n",
       "      <th>longitude</th>\n",
       "      <th>city_Brampton</th>\n",
       "      <th>city_Markham</th>\n",
       "      <th>city_Mississauga</th>\n",
       "      <th>city_Toronto</th>\n",
       "      <th>city_Vaughan</th>\n",
       "      <th>home type_CONDO</th>\n",
       "      <th>home type_SINGLE_FAMILY</th>\n",
       "      <th>home type_TOWNHOUSE</th>\n",
       "    </tr>\n",
       "  </thead>\n",
       "  <tbody>\n",
       "    <tr>\n",
       "      <th>0</th>\n",
       "      <td>https://photos.zillowstatic.com/fp/23aacb3df57...</td>\n",
       "      <td>https://www.zillow.com/homedetails/6225-Lawren...</td>\n",
       "      <td>6225 Lawrence Ave E, Toronto, ON M1C 5G4</td>\n",
       "      <td>M1C5G4</td>\n",
       "      <td>3</td>\n",
       "      <td>4</td>\n",
       "      <td>799900</td>\n",
       "      <td>43.655720</td>\n",
       "      <td>-79.457450</td>\n",
       "      <td>0</td>\n",
       "      <td>0</td>\n",
       "      <td>0</td>\n",
       "      <td>1</td>\n",
       "      <td>0</td>\n",
       "      <td>0</td>\n",
       "      <td>1</td>\n",
       "      <td>0</td>\n",
       "    </tr>\n",
       "    <tr>\n",
       "      <th>1</th>\n",
       "      <td>https://photos.zillowstatic.com/fp/1cd388cbfce...</td>\n",
       "      <td>https://www.zillow.com/homedetails/3840-Bathur...</td>\n",
       "      <td>3840 Bathurst St #702, Toronto, ON M3H 6C6</td>\n",
       "      <td>M3H6C6</td>\n",
       "      <td>2</td>\n",
       "      <td>2</td>\n",
       "      <td>699000</td>\n",
       "      <td>43.623860</td>\n",
       "      <td>-79.488945</td>\n",
       "      <td>0</td>\n",
       "      <td>0</td>\n",
       "      <td>0</td>\n",
       "      <td>1</td>\n",
       "      <td>0</td>\n",
       "      <td>1</td>\n",
       "      <td>0</td>\n",
       "      <td>0</td>\n",
       "    </tr>\n",
       "    <tr>\n",
       "      <th>2</th>\n",
       "      <td>https://photos.zillowstatic.com/fp/1f0037527b3...</td>\n",
       "      <td>https://www.zillow.com/homedetails/8-Littlelea...</td>\n",
       "      <td>8 Littleleaf Dr, Toronto, ON M1B 1Z1</td>\n",
       "      <td>M1B1Z1</td>\n",
       "      <td>3</td>\n",
       "      <td>3</td>\n",
       "      <td>1149900</td>\n",
       "      <td>43.723150</td>\n",
       "      <td>-79.448230</td>\n",
       "      <td>0</td>\n",
       "      <td>0</td>\n",
       "      <td>0</td>\n",
       "      <td>1</td>\n",
       "      <td>0</td>\n",
       "      <td>1</td>\n",
       "      <td>0</td>\n",
       "      <td>0</td>\n",
       "    </tr>\n",
       "    <tr>\n",
       "      <th>3</th>\n",
       "      <td>https://photos.zillowstatic.com/fp/780ba993641...</td>\n",
       "      <td>https://www.zillow.com/homedetails/2301-Danfor...</td>\n",
       "      <td>2301 Danforth Ave #306, Toronto, ON M4C 0A7</td>\n",
       "      <td>M4C0A7</td>\n",
       "      <td>2</td>\n",
       "      <td>2</td>\n",
       "      <td>699000</td>\n",
       "      <td>43.642390</td>\n",
       "      <td>-79.424736</td>\n",
       "      <td>0</td>\n",
       "      <td>0</td>\n",
       "      <td>0</td>\n",
       "      <td>1</td>\n",
       "      <td>0</td>\n",
       "      <td>1</td>\n",
       "      <td>0</td>\n",
       "      <td>0</td>\n",
       "    </tr>\n",
       "    <tr>\n",
       "      <th>4</th>\n",
       "      <td>https://photos.zillowstatic.com/fp/950875d10ea...</td>\n",
       "      <td>https://www.zillow.com/homedetails/16-Catalda-...</td>\n",
       "      <td>16 Catalda Ct, Toronto, ON M2R 3X5</td>\n",
       "      <td>M2R3X5</td>\n",
       "      <td>4</td>\n",
       "      <td>5</td>\n",
       "      <td>2690000</td>\n",
       "      <td>43.641495</td>\n",
       "      <td>-79.410070</td>\n",
       "      <td>0</td>\n",
       "      <td>0</td>\n",
       "      <td>0</td>\n",
       "      <td>1</td>\n",
       "      <td>0</td>\n",
       "      <td>1</td>\n",
       "      <td>0</td>\n",
       "      <td>0</td>\n",
       "    </tr>\n",
       "  </tbody>\n",
       "</table>\n",
       "</div>"
      ],
      "text/plain": [
       "                                       listing image  \\\n",
       "0  https://photos.zillowstatic.com/fp/23aacb3df57...   \n",
       "1  https://photos.zillowstatic.com/fp/1cd388cbfce...   \n",
       "2  https://photos.zillowstatic.com/fp/1f0037527b3...   \n",
       "3  https://photos.zillowstatic.com/fp/780ba993641...   \n",
       "4  https://photos.zillowstatic.com/fp/950875d10ea...   \n",
       "\n",
       "                                         listing url  \\\n",
       "0  https://www.zillow.com/homedetails/6225-Lawren...   \n",
       "1  https://www.zillow.com/homedetails/3840-Bathur...   \n",
       "2  https://www.zillow.com/homedetails/8-Littlelea...   \n",
       "3  https://www.zillow.com/homedetails/2301-Danfor...   \n",
       "4  https://www.zillow.com/homedetails/16-Catalda-...   \n",
       "\n",
       "                                  full address zipcode  # of beds  \\\n",
       "0     6225 Lawrence Ave E, Toronto, ON M1C 5G4  M1C5G4          3   \n",
       "1   3840 Bathurst St #702, Toronto, ON M3H 6C6  M3H6C6          2   \n",
       "2         8 Littleleaf Dr, Toronto, ON M1B 1Z1  M1B1Z1          3   \n",
       "3  2301 Danforth Ave #306, Toronto, ON M4C 0A7  M4C0A7          2   \n",
       "4           16 Catalda Ct, Toronto, ON M2R 3X5  M2R3X5          4   \n",
       "\n",
       "   # of bathrooms    price   latitude  longitude  city_Brampton  city_Markham  \\\n",
       "0               4   799900  43.655720 -79.457450              0             0   \n",
       "1               2   699000  43.623860 -79.488945              0             0   \n",
       "2               3  1149900  43.723150 -79.448230              0             0   \n",
       "3               2   699000  43.642390 -79.424736              0             0   \n",
       "4               5  2690000  43.641495 -79.410070              0             0   \n",
       "\n",
       "   city_Mississauga  city_Toronto  city_Vaughan  home type_CONDO  \\\n",
       "0                 0             1             0                0   \n",
       "1                 0             1             0                1   \n",
       "2                 0             1             0                1   \n",
       "3                 0             1             0                1   \n",
       "4                 0             1             0                1   \n",
       "\n",
       "   home type_SINGLE_FAMILY  home type_TOWNHOUSE  \n",
       "0                        1                    0  \n",
       "1                        0                    0  \n",
       "2                        0                    0  \n",
       "3                        0                    0  \n",
       "4                        0                    0  "
      ]
     },
     "execution_count": 15,
     "metadata": {},
     "output_type": "execute_result"
    }
   ],
   "source": [
    "#df = pd.get_dummies(df, columns=[\"homeType\", \"city\"])\n",
    "#df.head()\n",
    "\n",
    "#from sklearn.preprocessing import LabelEncoder\n",
    "#le = LabelEncoder()\n",
    "#df = df.copy()\n",
    "#df['city'] = le.fit_transform(df['city'])\n",
    "#df['homeType'] = le.fit_transform(df['home type'])\n",
    "#df.head()\n",
    "\n",
    "df = pd.get_dummies(df, columns=['city', 'home type'])\n",
    "df.head()"
   ]
  },
  {
   "cell_type": "code",
   "execution_count": 16,
   "id": "9740d387",
   "metadata": {
    "scrolled": true
   },
   "outputs": [
    {
     "name": "stdout",
     "output_type": "stream",
     "text": [
      "                          count        mean         std      min        25%  \\\n",
      "# of beds                1893.0        3.17        1.06     1.00       3.00   \n",
      "# of bathrooms           1893.0        3.13        1.43     1.00       2.00   \n",
      "price                    1893.0  1596955.89  1434246.57  2900.00  849900.00   \n",
      "latitude                 1893.0       43.73        0.10    43.50      43.65   \n",
      "longitude                1893.0      -79.51        0.18   -79.86     -79.66   \n",
      "city_Brampton            1893.0        0.17        0.38     0.00       0.00   \n",
      "city_Markham             1893.0        0.17        0.38     0.00       0.00   \n",
      "city_Mississauga         1893.0        0.18        0.38     0.00       0.00   \n",
      "city_Toronto             1893.0        0.32        0.47     0.00       0.00   \n",
      "city_Vaughan             1893.0        0.16        0.37     0.00       0.00   \n",
      "home type_CONDO          1893.0        0.20        0.40     0.00       0.00   \n",
      "home type_SINGLE_FAMILY  1893.0        0.66        0.47     0.00       0.00   \n",
      "home type_TOWNHOUSE      1893.0        0.14        0.34     0.00       0.00   \n",
      "\n",
      "                                50%         75%          max  \n",
      "# of beds                      3.00        4.00         5.00  \n",
      "# of bathrooms                 3.00        4.00         8.00  \n",
      "price                    1199000.00  1759000.00  12998000.00  \n",
      "latitude                      43.73       43.82        43.94  \n",
      "longitude                    -79.49      -79.37       -79.13  \n",
      "city_Brampton                  0.00        0.00         1.00  \n",
      "city_Markham                   0.00        0.00         1.00  \n",
      "city_Mississauga               0.00        0.00         1.00  \n",
      "city_Toronto                   0.00        1.00         1.00  \n",
      "city_Vaughan                   0.00        0.00         1.00  \n",
      "home type_CONDO                0.00        0.00         1.00  \n",
      "home type_SINGLE_FAMILY        1.00        1.00         1.00  \n",
      "home type_TOWNHOUSE            0.00        0.00         1.00  \n"
     ]
    }
   ],
   "source": [
    "#statistical overview of the dataset\n",
    "print(df.describe().round(2).T)"
   ]
  },
  {
   "cell_type": "code",
   "execution_count": 17,
   "id": "6c185cca",
   "metadata": {},
   "outputs": [
    {
     "data": {
      "text/html": [
       "<div>\n",
       "<style scoped>\n",
       "    .dataframe tbody tr th:only-of-type {\n",
       "        vertical-align: middle;\n",
       "    }\n",
       "\n",
       "    .dataframe tbody tr th {\n",
       "        vertical-align: top;\n",
       "    }\n",
       "\n",
       "    .dataframe thead th {\n",
       "        text-align: right;\n",
       "    }\n",
       "</style>\n",
       "<table border=\"1\" class=\"dataframe\">\n",
       "  <thead>\n",
       "    <tr style=\"text-align: right;\">\n",
       "      <th></th>\n",
       "      <th># of beds</th>\n",
       "      <th># of bathrooms</th>\n",
       "      <th>city_Brampton</th>\n",
       "      <th>city_Markham</th>\n",
       "      <th>city_Mississauga</th>\n",
       "      <th>city_Toronto</th>\n",
       "      <th>city_Vaughan</th>\n",
       "      <th>home type_CONDO</th>\n",
       "      <th>home type_SINGLE_FAMILY</th>\n",
       "      <th>home type_TOWNHOUSE</th>\n",
       "    </tr>\n",
       "  </thead>\n",
       "  <tbody>\n",
       "    <tr>\n",
       "      <th>0</th>\n",
       "      <td>3</td>\n",
       "      <td>4</td>\n",
       "      <td>0</td>\n",
       "      <td>0</td>\n",
       "      <td>0</td>\n",
       "      <td>1</td>\n",
       "      <td>0</td>\n",
       "      <td>0</td>\n",
       "      <td>1</td>\n",
       "      <td>0</td>\n",
       "    </tr>\n",
       "    <tr>\n",
       "      <th>1</th>\n",
       "      <td>2</td>\n",
       "      <td>2</td>\n",
       "      <td>0</td>\n",
       "      <td>0</td>\n",
       "      <td>0</td>\n",
       "      <td>1</td>\n",
       "      <td>0</td>\n",
       "      <td>1</td>\n",
       "      <td>0</td>\n",
       "      <td>0</td>\n",
       "    </tr>\n",
       "    <tr>\n",
       "      <th>2</th>\n",
       "      <td>3</td>\n",
       "      <td>3</td>\n",
       "      <td>0</td>\n",
       "      <td>0</td>\n",
       "      <td>0</td>\n",
       "      <td>1</td>\n",
       "      <td>0</td>\n",
       "      <td>1</td>\n",
       "      <td>0</td>\n",
       "      <td>0</td>\n",
       "    </tr>\n",
       "    <tr>\n",
       "      <th>3</th>\n",
       "      <td>2</td>\n",
       "      <td>2</td>\n",
       "      <td>0</td>\n",
       "      <td>0</td>\n",
       "      <td>0</td>\n",
       "      <td>1</td>\n",
       "      <td>0</td>\n",
       "      <td>1</td>\n",
       "      <td>0</td>\n",
       "      <td>0</td>\n",
       "    </tr>\n",
       "    <tr>\n",
       "      <th>4</th>\n",
       "      <td>4</td>\n",
       "      <td>5</td>\n",
       "      <td>0</td>\n",
       "      <td>0</td>\n",
       "      <td>0</td>\n",
       "      <td>1</td>\n",
       "      <td>0</td>\n",
       "      <td>1</td>\n",
       "      <td>0</td>\n",
       "      <td>0</td>\n",
       "    </tr>\n",
       "  </tbody>\n",
       "</table>\n",
       "</div>"
      ],
      "text/plain": [
       "   # of beds  # of bathrooms  city_Brampton  city_Markham  city_Mississauga  \\\n",
       "0          3               4              0             0                 0   \n",
       "1          2               2              0             0                 0   \n",
       "2          3               3              0             0                 0   \n",
       "3          2               2              0             0                 0   \n",
       "4          4               5              0             0                 0   \n",
       "\n",
       "   city_Toronto  city_Vaughan  home type_CONDO  home type_SINGLE_FAMILY  \\\n",
       "0             1             0                0                        1   \n",
       "1             1             0                1                        0   \n",
       "2             1             0                1                        0   \n",
       "3             1             0                1                        0   \n",
       "4             1             0                1                        0   \n",
       "\n",
       "   home type_TOWNHOUSE  \n",
       "0                    0  \n",
       "1                    0  \n",
       "2                    0  \n",
       "3                    0  \n",
       "4                    0  "
      ]
     },
     "execution_count": 17,
     "metadata": {},
     "output_type": "execute_result"
    }
   ],
   "source": [
    "# Define the features set.\n",
    "X = df.drop(['price', 'listing image', 'listing url', 'full address', 'zipcode', 'latitude', 'longitude'], axis=1)\n",
    "X.head()"
   ]
  },
  {
   "cell_type": "code",
   "execution_count": 18,
   "id": "2b992862",
   "metadata": {},
   "outputs": [
    {
     "data": {
      "text/plain": [
       "(1893, 10)"
      ]
     },
     "execution_count": 18,
     "metadata": {},
     "output_type": "execute_result"
    }
   ],
   "source": [
    "X.shape"
   ]
  },
  {
   "cell_type": "code",
   "execution_count": 19,
   "id": "faa41fe0",
   "metadata": {},
   "outputs": [
    {
     "data": {
      "text/plain": [
       "0     799900\n",
       "1     699000\n",
       "2    1149900\n",
       "3     699000\n",
       "4    2690000\n",
       "Name: price, dtype: int64"
      ]
     },
     "execution_count": 19,
     "metadata": {},
     "output_type": "execute_result"
    }
   ],
   "source": [
    "# Define the target set.\n",
    "y = df['price']\n",
    "y[:5]"
   ]
  },
  {
   "cell_type": "code",
   "execution_count": 20,
   "id": "19302831",
   "metadata": {},
   "outputs": [
    {
     "data": {
      "text/plain": [
       "(1893,)"
      ]
     },
     "execution_count": 20,
     "metadata": {},
     "output_type": "execute_result"
    }
   ],
   "source": [
    "y.shape"
   ]
  },
  {
   "cell_type": "code",
   "execution_count": 22,
   "id": "e7824de6",
   "metadata": {},
   "outputs": [],
   "source": [
    "# Splitting into Train and Test sets.\n",
    "X_train, X_test, y_train, y_test = train_test_split(X, y, random_state=78, train_size=0.80)"
   ]
  },
  {
   "cell_type": "code",
   "execution_count": 23,
   "id": "e56c518d",
   "metadata": {},
   "outputs": [
    {
     "name": "stdout",
     "output_type": "stream",
     "text": [
      "(1514, 10)\n",
      "(379, 10)\n",
      "(1514,)\n",
      "(379,)\n"
     ]
    }
   ],
   "source": [
    "# Determine the shape of our training and testing sets.\n",
    "print(X_train.shape)\n",
    "print(X_test.shape)\n",
    "print(y_train.shape)\n",
    "print(y_test.shape)"
   ]
  },
  {
   "cell_type": "code",
   "execution_count": 24,
   "id": "99239f60",
   "metadata": {},
   "outputs": [],
   "source": [
    "# Creating a StandardScaler instance.\n",
    "scaler = StandardScaler()\n",
    "# Fitting the Standard Scaler with the training data.\n",
    "X_scaler = scaler.fit(X_train)\n",
    "\n",
    "# Scaling the data.\n",
    "X_train_scaled = X_scaler.transform(X_train)\n",
    "X_test_scaled = X_scaler.transform(X_test)"
   ]
  },
  {
   "cell_type": "code",
   "execution_count": 25,
   "id": "ab84083f",
   "metadata": {},
   "outputs": [],
   "source": [
    "# Create a random forest classifier.\n",
    "rf_model = RandomForestClassifier(n_estimators=128, random_state=50)"
   ]
  },
  {
   "cell_type": "code",
   "execution_count": 28,
   "id": "e47abd8f",
   "metadata": {},
   "outputs": [],
   "source": [
    "# Fitting the model\n",
    "rf_model = rf_model.fit(X_train_scaled, y_train)"
   ]
  },
  {
   "cell_type": "code",
   "execution_count": 29,
   "id": "f65722e6",
   "metadata": {},
   "outputs": [
    {
     "name": "stdout",
     "output_type": "stream",
     "text": [
      "[ 649900 1199990 1858000  849000 1150000 1399000 1288900 2288880 3250000\n",
      " 1199990  699000  999000 1700000  999900 1499900 1688000 1599000  999000\n",
      "  719000 1399900  899000 1950000  699000 1199990 1388000  998000 1399000\n",
      "  999900 1199000 1250000  550000  609900 1428000  609900 1599900 1300000\n",
      "   25000 1735000 1399000 1139900 1299000 1099000 1079000 1898800 1199000\n",
      "  999000 1425000  999000 1428000  699000  609900 1399000  778000 3880000\n",
      "  579900  699000 1199000  609900  739000  849900  565000  699000  849900\n",
      " 1700000 2595000 7580000 1199000 1238800 1199990  999000  849900  849000\n",
      "  999000 1188000  869888  849900  849900  651900 1350000 1399000  649900\n",
      " 1449900 2490000  998000 1499000 1399000 1250000  999900  999900  999000\n",
      " 1688000 1238800  579900 1428000 1199000  999000 1399000 1450000  849900\n",
      "  849000  799900 5450000 1399000 1300000 1150000 1368000 1328000  879900\n",
      "  649900  799900 1599000  579900  999000 1199000 1950000 1499900 1428000\n",
      " 1599900 8888000 1299000 1139900 1499900 1139900  449000 1250000  699000\n",
      " 1599900  899000 1099000 2950000 1300000 1499900  999000  728000  550000\n",
      "  849900 1428000 1399000 1299000 1499900 1759000 1749000 1599900  849900\n",
      "  799900 3880000 1428000 1139900 1299000 1450000 1499000 1299000 2399000\n",
      "  999000  649900 1450000 1699000 1079000 2399000 8100000  999000  999000\n",
      " 1699813  999000 1399000 1599000  999900 1300000 1150000 1399000 1759000\n",
      " 1499900 7680000  609900 1499900  698800 1599900  728000  879900 1699000\n",
      " 1199000 1300000  699000 1199990  999000  879900  849900  329700 3300000\n",
      " 1990000   25000 3300000  699900  650000  919990 1599900 1399900 1499000\n",
      " 1199000 1990000 1199000  849900  999900 1825000  849000 1089000 1499000\n",
      "  999000 7580000 1688000 1199990  999000  998000 1735000 1499000 1199990\n",
      " 2595000 1599900 1450000 1299000  999000 1199000  849900  999000  799511\n",
      " 1139900 1299000  565000 1858000 1150000 1599900 1238800 1599000  699900\n",
      " 1735000  849000 1399900 1188000 1099000 1199990  699000 1599900  849900\n",
      "  728000 3300000  609900  999000 1499000  998000  784000  699000 1139900\n",
      " 2480000 1799999 1150000 1759000 1688000  899905 1499900 1700000  788900\n",
      " 1299000  699000  899000 1499900  699000 2698000 1139900  999000 1700000\n",
      " 2288880 1950000  899000 1398000 2250000  615000 1399900  999900 1450000\n",
      "  649900 1699813  899000  839900 2480000  999000  849900  869888 1388000\n",
      "  999000  749000 1139900  569000  999000 1599900 1699000 2595000  999000\n",
      "  699000  579900  699000  489900 1599000 2480000  799900  649000 1499000\n",
      " 1450000 1858000  698800 1060000  609900 1399000  998000  869888 1300000\n",
      "  998000 1299000  849900  699000 1150000  829900  980000 1858000 1399000\n",
      "  999000  728000 1399900 1699999 1079900 1599900  899000  699000 1199000\n",
      "  799900 4500000 1498000  565000  999000  849900 1599000 1399000  728000\n",
      "  651900  849900 1735000  699000 1498000 3995000  849900  999900 1735000\n",
      "  678888 3880000  699000 1139900  609900 1300000 1399000  788900 2288880\n",
      "  999000  849000  569900  849900 1099000  329700  999900  678888  998000\n",
      "  999900  739000  739000  569900 1990000 1199000 1188000  899000  565000\n",
      "  579900]\n"
     ]
    }
   ],
   "source": [
    "# Making predictions using the testing data.\n",
    "predictions = rf_model.predict(X_test_scaled)\n",
    "print(predictions)"
   ]
  },
  {
   "cell_type": "code",
   "execution_count": 30,
   "id": "3a330476",
   "metadata": {},
   "outputs": [
    {
     "ename": "ValueError",
     "evalue": "Shape of passed values is (346, 346), indices imply (2, 2)",
     "output_type": "error",
     "traceback": [
      "\u001b[1;31m---------------------------------------------------------------------------\u001b[0m",
      "\u001b[1;31mValueError\u001b[0m                                Traceback (most recent call last)",
      "\u001b[1;32m~\\AppData\\Local\\Temp\\ipykernel_14260\\4042802561.py\u001b[0m in \u001b[0;36m<module>\u001b[1;34m\u001b[0m\n\u001b[0;32m      4\u001b[0m \u001b[1;31m# Create a DataFrame from the confusion matrix.\u001b[0m\u001b[1;33m\u001b[0m\u001b[1;33m\u001b[0m\u001b[1;33m\u001b[0m\u001b[0m\n\u001b[0;32m      5\u001b[0m cm_df = pd.DataFrame(\n\u001b[1;32m----> 6\u001b[1;33m     cm, index=[\"Actual 0\", \"Actual 1\"], columns=[\"Predicted 0\", \"Predicted 1\"])\n\u001b[0m\u001b[0;32m      7\u001b[0m \u001b[1;33m\u001b[0m\u001b[0m\n\u001b[0;32m      8\u001b[0m \u001b[0mcm_df\u001b[0m\u001b[1;33m\u001b[0m\u001b[1;33m\u001b[0m\u001b[0m\n",
      "\u001b[1;32m~\\anaconda3\\envs\\mlenv\\lib\\site-packages\\pandas\\core\\frame.py\u001b[0m in \u001b[0;36m__init__\u001b[1;34m(self, data, index, columns, dtype, copy)\u001b[0m\n\u001b[0;32m    676\u001b[0m                     \u001b[0mdtype\u001b[0m\u001b[1;33m=\u001b[0m\u001b[0mdtype\u001b[0m\u001b[1;33m,\u001b[0m\u001b[1;33m\u001b[0m\u001b[1;33m\u001b[0m\u001b[0m\n\u001b[0;32m    677\u001b[0m                     \u001b[0mcopy\u001b[0m\u001b[1;33m=\u001b[0m\u001b[0mcopy\u001b[0m\u001b[1;33m,\u001b[0m\u001b[1;33m\u001b[0m\u001b[1;33m\u001b[0m\u001b[0m\n\u001b[1;32m--> 678\u001b[1;33m                     \u001b[0mtyp\u001b[0m\u001b[1;33m=\u001b[0m\u001b[0mmanager\u001b[0m\u001b[1;33m,\u001b[0m\u001b[1;33m\u001b[0m\u001b[1;33m\u001b[0m\u001b[0m\n\u001b[0m\u001b[0;32m    679\u001b[0m                 )\n\u001b[0;32m    680\u001b[0m \u001b[1;33m\u001b[0m\u001b[0m\n",
      "\u001b[1;32m~\\anaconda3\\envs\\mlenv\\lib\\site-packages\\pandas\\core\\internals\\construction.py\u001b[0m in \u001b[0;36mndarray_to_mgr\u001b[1;34m(values, index, columns, dtype, copy, typ)\u001b[0m\n\u001b[0;32m    322\u001b[0m     )\n\u001b[0;32m    323\u001b[0m \u001b[1;33m\u001b[0m\u001b[0m\n\u001b[1;32m--> 324\u001b[1;33m     \u001b[0m_check_values_indices_shape_match\u001b[0m\u001b[1;33m(\u001b[0m\u001b[0mvalues\u001b[0m\u001b[1;33m,\u001b[0m \u001b[0mindex\u001b[0m\u001b[1;33m,\u001b[0m \u001b[0mcolumns\u001b[0m\u001b[1;33m)\u001b[0m\u001b[1;33m\u001b[0m\u001b[1;33m\u001b[0m\u001b[0m\n\u001b[0m\u001b[0;32m    325\u001b[0m \u001b[1;33m\u001b[0m\u001b[0m\n\u001b[0;32m    326\u001b[0m     \u001b[1;32mif\u001b[0m \u001b[0mtyp\u001b[0m \u001b[1;33m==\u001b[0m \u001b[1;34m\"array\"\u001b[0m\u001b[1;33m:\u001b[0m\u001b[1;33m\u001b[0m\u001b[1;33m\u001b[0m\u001b[0m\n",
      "\u001b[1;32m~\\anaconda3\\envs\\mlenv\\lib\\site-packages\\pandas\\core\\internals\\construction.py\u001b[0m in \u001b[0;36m_check_values_indices_shape_match\u001b[1;34m(values, index, columns)\u001b[0m\n\u001b[0;32m    391\u001b[0m         \u001b[0mpassed\u001b[0m \u001b[1;33m=\u001b[0m \u001b[0mvalues\u001b[0m\u001b[1;33m.\u001b[0m\u001b[0mshape\u001b[0m\u001b[1;33m\u001b[0m\u001b[1;33m\u001b[0m\u001b[0m\n\u001b[0;32m    392\u001b[0m         \u001b[0mimplied\u001b[0m \u001b[1;33m=\u001b[0m \u001b[1;33m(\u001b[0m\u001b[0mlen\u001b[0m\u001b[1;33m(\u001b[0m\u001b[0mindex\u001b[0m\u001b[1;33m)\u001b[0m\u001b[1;33m,\u001b[0m \u001b[0mlen\u001b[0m\u001b[1;33m(\u001b[0m\u001b[0mcolumns\u001b[0m\u001b[1;33m)\u001b[0m\u001b[1;33m)\u001b[0m\u001b[1;33m\u001b[0m\u001b[1;33m\u001b[0m\u001b[0m\n\u001b[1;32m--> 393\u001b[1;33m         \u001b[1;32mraise\u001b[0m \u001b[0mValueError\u001b[0m\u001b[1;33m(\u001b[0m\u001b[1;34mf\"Shape of passed values is {passed}, indices imply {implied}\"\u001b[0m\u001b[1;33m)\u001b[0m\u001b[1;33m\u001b[0m\u001b[1;33m\u001b[0m\u001b[0m\n\u001b[0m\u001b[0;32m    394\u001b[0m \u001b[1;33m\u001b[0m\u001b[0m\n\u001b[0;32m    395\u001b[0m \u001b[1;33m\u001b[0m\u001b[0m\n",
      "\u001b[1;31mValueError\u001b[0m: Shape of passed values is (346, 346), indices imply (2, 2)"
     ]
    }
   ],
   "source": [
    "# Calculating the confusion matrix.\n",
    "cm = confusion_matrix(y_test, predictions)\n",
    "\n",
    "# Create a DataFrame from the confusion matrix.\n",
    "cm_df = pd.DataFrame(\n",
    "    cm, index=[\"Actual 0\", \"Actual 1\"], columns=[\"Predicted 0\", \"Predicted 1\"])\n",
    "\n",
    "cm_df\n",
    "\n",
    "# Calculating the accuracy score.\n",
    "acc_score = accuracy_score(y_test, predictions)\n",
    "print(acc_score)\n",
    "#print(\"Confusion Matrix\")\n",
    "#display(cm_df)\n",
    "print(classification_report(y_test, predictions))"
   ]
  },
  {
   "cell_type": "code",
   "execution_count": 33,
   "id": "f083ee6e",
   "metadata": {},
   "outputs": [
    {
     "name": "stdout",
     "output_type": "stream",
     "text": [
      "Mean squared error (MSE):  2222174590432.49\n",
      "R2 Score:  -0.15\n",
      "Mean Absolute Error (MAE):  731821.89\n"
     ]
    }
   ],
   "source": [
    "# importing necessary liberaries\n",
    "\n",
    "\n",
    "from sklearn.metrics import mean_squared_error, r2_score, mean_absolute_error\n",
    "\n",
    "\n",
    "# Mean squared error (MSE)\n",
    "mse = mean_squared_error(y_test.values.ravel(), predictions)\n",
    "\n",
    "\n",
    "# R2 Score\n",
    "r2 = r2_score(y_test.values.ravel(), predictions)\n",
    "\n",
    "\n",
    "# Mean Absolute Error\n",
    "mae = mean_absolute_error(y_test.values.ravel(), predictions)\n",
    "\n",
    "\n",
    "#Print Results\n",
    "\n",
    "\n",
    "print(\"Mean squared error (MSE): \", round(mse, 2))\n",
    "\n",
    "print(\"R2 Score: \", round(r2, 2))\n",
    "print(\"Mean Absolute Error (MAE): \", round(mae, 2))"
   ]
  },
  {
   "cell_type": "code",
   "execution_count": null,
   "id": "898d60d9",
   "metadata": {},
   "outputs": [],
   "source": [
    "# Calculate feature importance in the Random Forest model.\n",
    "importances = rf_model.feature_importances_\n",
    "importances"
   ]
  },
  {
   "cell_type": "code",
   "execution_count": null,
   "id": "e78da4c2",
   "metadata": {},
   "outputs": [],
   "source": [
    "# We can sort the features by their importance.\n",
    "sorted(zip(rf_model.feature_importances_, X.columns), reverse=True)"
   ]
  },
  {
   "cell_type": "code",
   "execution_count": null,
   "id": "9ba963b0",
   "metadata": {},
   "outputs": [],
   "source": []
  }
 ],
 "metadata": {
  "kernelspec": {
   "display_name": "mlenv",
   "language": "python",
   "name": "mlenv"
  },
  "language_info": {
   "codemirror_mode": {
    "name": "ipython",
    "version": 3
   },
   "file_extension": ".py",
   "mimetype": "text/x-python",
   "name": "python",
   "nbconvert_exporter": "python",
   "pygments_lexer": "ipython3",
   "version": "3.7.13"
  }
 },
 "nbformat": 4,
 "nbformat_minor": 5
}
